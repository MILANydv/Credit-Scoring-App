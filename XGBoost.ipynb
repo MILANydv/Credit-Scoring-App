{
  "nbformat": 4,
  "nbformat_minor": 0,
  "metadata": {
    "colab": {
      "provenance": []
    },
    "kernelspec": {
      "name": "python3",
      "display_name": "Python 3"
    },
    "language_info": {
      "name": "python"
    }
  },
  "cells": [
    {
      "cell_type": "code",
      "execution_count": null,
      "metadata": {
        "colab": {
          "base_uri": "https://localhost:8080/"
        },
        "id": "1z9Gd51Bz0Ay",
        "outputId": "4d5942c0-8f5f-483a-b70b-723b2d906b1a"
      },
      "outputs": [
        {
          "output_type": "stream",
          "name": "stdout",
          "text": [
            "Looking in indexes: https://pypi.org/simple, https://us-python.pkg.dev/colab-wheels/public/simple/\n",
            "Requirement already satisfied: xgboost in /usr/local/lib/python3.8/dist-packages (0.90)\n",
            "Collecting xgboost\n",
            "  Downloading xgboost-1.7.3-py3-none-manylinux2014_x86_64.whl (193.6 MB)\n",
            "\u001b[2K     \u001b[90m━━━━━━━━━━━━━━━━━━━━━━━━━━━━━━━━━━━━━━━\u001b[0m \u001b[32m193.6/193.6 MB\u001b[0m \u001b[31m4.2 MB/s\u001b[0m eta \u001b[36m0:00:00\u001b[0m\n",
            "\u001b[?25hRequirement already satisfied: numpy in /usr/local/lib/python3.8/dist-packages (from xgboost) (1.21.6)\n",
            "Requirement already satisfied: scipy in /usr/local/lib/python3.8/dist-packages (from xgboost) (1.7.3)\n",
            "Installing collected packages: xgboost\n",
            "  Attempting uninstall: xgboost\n",
            "    Found existing installation: xgboost 0.90\n",
            "    Uninstalling xgboost-0.90:\n",
            "      Successfully uninstalled xgboost-0.90\n",
            "Successfully installed xgboost-1.7.3\n",
            "Looking in indexes: https://pypi.org/simple, https://us-python.pkg.dev/colab-wheels/public/simple/\n",
            "Requirement already satisfied: scikit-learn in /usr/local/lib/python3.8/dist-packages (1.0.2)\n",
            "Collecting scikit-learn\n",
            "  Downloading scikit_learn-1.2.0-cp38-cp38-manylinux_2_17_x86_64.manylinux2014_x86_64.whl (9.7 MB)\n",
            "\u001b[2K     \u001b[90m━━━━━━━━━━━━━━━━━━━━━━━━━━━━━━━━━━━━━━━━\u001b[0m \u001b[32m9.7/9.7 MB\u001b[0m \u001b[31m55.8 MB/s\u001b[0m eta \u001b[36m0:00:00\u001b[0m\n",
            "\u001b[?25hRequirement already satisfied: joblib>=1.1.1 in /usr/local/lib/python3.8/dist-packages (from scikit-learn) (1.2.0)\n",
            "Requirement already satisfied: threadpoolctl>=2.0.0 in /usr/local/lib/python3.8/dist-packages (from scikit-learn) (3.1.0)\n",
            "Requirement already satisfied: numpy>=1.17.3 in /usr/local/lib/python3.8/dist-packages (from scikit-learn) (1.21.6)\n",
            "Requirement already satisfied: scipy>=1.3.2 in /usr/local/lib/python3.8/dist-packages (from scikit-learn) (1.7.3)\n",
            "Installing collected packages: scikit-learn\n",
            "  Attempting uninstall: scikit-learn\n",
            "    Found existing installation: scikit-learn 1.0.2\n",
            "    Uninstalling scikit-learn-1.0.2:\n",
            "      Successfully uninstalled scikit-learn-1.0.2\n",
            "Successfully installed scikit-learn-1.2.0\n"
          ]
        }
      ],
      "source": [
        "!pip install xgboost --upgrade\n",
        "!pip install -U scikit-learn\n",
        "\n",
        "\n",
        "import numpy as np # linear algebra\n",
        "import pandas as pd # data processing, CSV file I/O (e.g. pd.read_csv)\n",
        "from sklearn.feature_selection import mutual_info_regression\n",
        "from sklearn.preprocessing import OneHotEncoder\n",
        "from sklearn.linear_model import LogisticRegression\n",
        "from sklearn.model_selection import train_test_split\n",
        "import sklearn.metrics as sm\n",
        "from sklearn.ensemble import RandomForestClassifier\n",
        "from xgboost import XGBClassifier\n",
        "from sklearn.linear_model import RidgeClassifier\n",
        "from sklearn.pipeline import Pipeline\n",
        "from sklearn.impute import SimpleImputer\n",
        "from sklearn.model_selection import cross_val_score\n",
        "from sklearn.compose import ColumnTransformer\n",
        "from sklearn.model_selection import GridSearchCV\n",
        "from sklearn.metrics import accuracy_score\n",
        "import matplotlib.pyplot as plt"
      ]
    },
    {
      "cell_type": "code",
      "source": [
        "from google.colab import drive\n",
        "drive.mount('/content/drive')"
      ],
      "metadata": {
        "colab": {
          "base_uri": "https://localhost:8080/"
        },
        "id": "qAGD37-pkHGI",
        "outputId": "02c3cb3d-a009-407b-b34a-8c4ce1422474"
      },
      "execution_count": null,
      "outputs": [
        {
          "output_type": "stream",
          "name": "stdout",
          "text": [
            "Drive already mounted at /content/drive; to attempt to forcibly remount, call drive.mount(\"/content/drive\", force_remount=True).\n"
          ]
        }
      ]
    },
    {
      "cell_type": "code",
      "source": [
        "# Read in data\n",
        "df=pd.read_csv(\"/content/drive/MyDrive/Credit_Scoring/credit_risk_dataset.csv\")\n",
        "df.describe()\n"
      ],
      "metadata": {
        "colab": {
          "base_uri": "https://localhost:8080/",
          "height": 364
        },
        "id": "xYlWJbxSz-nX",
        "outputId": "6f08578f-e055-4ce5-c619-6bf68a2344e3"
      },
      "execution_count": null,
      "outputs": [
        {
          "output_type": "execute_result",
          "data": {
            "text/plain": [
              "         person_age  person_income  person_emp_length     loan_amnt  \\\n",
              "count  32581.000000   3.258100e+04       31686.000000  32581.000000   \n",
              "mean      27.734600   6.607485e+04           4.789686   9589.371106   \n",
              "std        6.348078   6.198312e+04           4.142630   6322.086646   \n",
              "min       20.000000   4.000000e+03           0.000000    500.000000   \n",
              "25%       23.000000   3.850000e+04           2.000000   5000.000000   \n",
              "50%       26.000000   5.500000e+04           4.000000   8000.000000   \n",
              "75%       30.000000   7.920000e+04           7.000000  12200.000000   \n",
              "max      144.000000   6.000000e+06         123.000000  35000.000000   \n",
              "\n",
              "       loan_int_rate   loan_status  loan_percent_income  \\\n",
              "count   29465.000000  32581.000000         32581.000000   \n",
              "mean       11.011695      0.218164             0.170203   \n",
              "std         3.240459      0.413006             0.106782   \n",
              "min         5.420000      0.000000             0.000000   \n",
              "25%         7.900000      0.000000             0.090000   \n",
              "50%        10.990000      0.000000             0.150000   \n",
              "75%        13.470000      0.000000             0.230000   \n",
              "max        23.220000      1.000000             0.830000   \n",
              "\n",
              "       cb_person_cred_hist_length  \n",
              "count                32581.000000  \n",
              "mean                     5.804211  \n",
              "std                      4.055001  \n",
              "min                      2.000000  \n",
              "25%                      3.000000  \n",
              "50%                      4.000000  \n",
              "75%                      8.000000  \n",
              "max                     30.000000  "
            ],
            "text/html": [
              "\n",
              "  <div id=\"df-df91d35b-41cf-4aa6-990a-9bcc7f81d8aa\">\n",
              "    <div class=\"colab-df-container\">\n",
              "      <div>\n",
              "<style scoped>\n",
              "    .dataframe tbody tr th:only-of-type {\n",
              "        vertical-align: middle;\n",
              "    }\n",
              "\n",
              "    .dataframe tbody tr th {\n",
              "        vertical-align: top;\n",
              "    }\n",
              "\n",
              "    .dataframe thead th {\n",
              "        text-align: right;\n",
              "    }\n",
              "</style>\n",
              "<table border=\"1\" class=\"dataframe\">\n",
              "  <thead>\n",
              "    <tr style=\"text-align: right;\">\n",
              "      <th></th>\n",
              "      <th>person_age</th>\n",
              "      <th>person_income</th>\n",
              "      <th>person_emp_length</th>\n",
              "      <th>loan_amnt</th>\n",
              "      <th>loan_int_rate</th>\n",
              "      <th>loan_status</th>\n",
              "      <th>loan_percent_income</th>\n",
              "      <th>cb_person_cred_hist_length</th>\n",
              "    </tr>\n",
              "  </thead>\n",
              "  <tbody>\n",
              "    <tr>\n",
              "      <th>count</th>\n",
              "      <td>32581.000000</td>\n",
              "      <td>3.258100e+04</td>\n",
              "      <td>31686.000000</td>\n",
              "      <td>32581.000000</td>\n",
              "      <td>29465.000000</td>\n",
              "      <td>32581.000000</td>\n",
              "      <td>32581.000000</td>\n",
              "      <td>32581.000000</td>\n",
              "    </tr>\n",
              "    <tr>\n",
              "      <th>mean</th>\n",
              "      <td>27.734600</td>\n",
              "      <td>6.607485e+04</td>\n",
              "      <td>4.789686</td>\n",
              "      <td>9589.371106</td>\n",
              "      <td>11.011695</td>\n",
              "      <td>0.218164</td>\n",
              "      <td>0.170203</td>\n",
              "      <td>5.804211</td>\n",
              "    </tr>\n",
              "    <tr>\n",
              "      <th>std</th>\n",
              "      <td>6.348078</td>\n",
              "      <td>6.198312e+04</td>\n",
              "      <td>4.142630</td>\n",
              "      <td>6322.086646</td>\n",
              "      <td>3.240459</td>\n",
              "      <td>0.413006</td>\n",
              "      <td>0.106782</td>\n",
              "      <td>4.055001</td>\n",
              "    </tr>\n",
              "    <tr>\n",
              "      <th>min</th>\n",
              "      <td>20.000000</td>\n",
              "      <td>4.000000e+03</td>\n",
              "      <td>0.000000</td>\n",
              "      <td>500.000000</td>\n",
              "      <td>5.420000</td>\n",
              "      <td>0.000000</td>\n",
              "      <td>0.000000</td>\n",
              "      <td>2.000000</td>\n",
              "    </tr>\n",
              "    <tr>\n",
              "      <th>25%</th>\n",
              "      <td>23.000000</td>\n",
              "      <td>3.850000e+04</td>\n",
              "      <td>2.000000</td>\n",
              "      <td>5000.000000</td>\n",
              "      <td>7.900000</td>\n",
              "      <td>0.000000</td>\n",
              "      <td>0.090000</td>\n",
              "      <td>3.000000</td>\n",
              "    </tr>\n",
              "    <tr>\n",
              "      <th>50%</th>\n",
              "      <td>26.000000</td>\n",
              "      <td>5.500000e+04</td>\n",
              "      <td>4.000000</td>\n",
              "      <td>8000.000000</td>\n",
              "      <td>10.990000</td>\n",
              "      <td>0.000000</td>\n",
              "      <td>0.150000</td>\n",
              "      <td>4.000000</td>\n",
              "    </tr>\n",
              "    <tr>\n",
              "      <th>75%</th>\n",
              "      <td>30.000000</td>\n",
              "      <td>7.920000e+04</td>\n",
              "      <td>7.000000</td>\n",
              "      <td>12200.000000</td>\n",
              "      <td>13.470000</td>\n",
              "      <td>0.000000</td>\n",
              "      <td>0.230000</td>\n",
              "      <td>8.000000</td>\n",
              "    </tr>\n",
              "    <tr>\n",
              "      <th>max</th>\n",
              "      <td>144.000000</td>\n",
              "      <td>6.000000e+06</td>\n",
              "      <td>123.000000</td>\n",
              "      <td>35000.000000</td>\n",
              "      <td>23.220000</td>\n",
              "      <td>1.000000</td>\n",
              "      <td>0.830000</td>\n",
              "      <td>30.000000</td>\n",
              "    </tr>\n",
              "  </tbody>\n",
              "</table>\n",
              "</div>\n",
              "      <button class=\"colab-df-convert\" onclick=\"convertToInteractive('df-df91d35b-41cf-4aa6-990a-9bcc7f81d8aa')\"\n",
              "              title=\"Convert this dataframe to an interactive table.\"\n",
              "              style=\"display:none;\">\n",
              "        \n",
              "  <svg xmlns=\"http://www.w3.org/2000/svg\" height=\"24px\"viewBox=\"0 0 24 24\"\n",
              "       width=\"24px\">\n",
              "    <path d=\"M0 0h24v24H0V0z\" fill=\"none\"/>\n",
              "    <path d=\"M18.56 5.44l.94 2.06.94-2.06 2.06-.94-2.06-.94-.94-2.06-.94 2.06-2.06.94zm-11 1L8.5 8.5l.94-2.06 2.06-.94-2.06-.94L8.5 2.5l-.94 2.06-2.06.94zm10 10l.94 2.06.94-2.06 2.06-.94-2.06-.94-.94-2.06-.94 2.06-2.06.94z\"/><path d=\"M17.41 7.96l-1.37-1.37c-.4-.4-.92-.59-1.43-.59-.52 0-1.04.2-1.43.59L10.3 9.45l-7.72 7.72c-.78.78-.78 2.05 0 2.83L4 21.41c.39.39.9.59 1.41.59.51 0 1.02-.2 1.41-.59l7.78-7.78 2.81-2.81c.8-.78.8-2.07 0-2.86zM5.41 20L4 18.59l7.72-7.72 1.47 1.35L5.41 20z\"/>\n",
              "  </svg>\n",
              "      </button>\n",
              "      \n",
              "  <style>\n",
              "    .colab-df-container {\n",
              "      display:flex;\n",
              "      flex-wrap:wrap;\n",
              "      gap: 12px;\n",
              "    }\n",
              "\n",
              "    .colab-df-convert {\n",
              "      background-color: #E8F0FE;\n",
              "      border: none;\n",
              "      border-radius: 50%;\n",
              "      cursor: pointer;\n",
              "      display: none;\n",
              "      fill: #1967D2;\n",
              "      height: 32px;\n",
              "      padding: 0 0 0 0;\n",
              "      width: 32px;\n",
              "    }\n",
              "\n",
              "    .colab-df-convert:hover {\n",
              "      background-color: #E2EBFA;\n",
              "      box-shadow: 0px 1px 2px rgba(60, 64, 67, 0.3), 0px 1px 3px 1px rgba(60, 64, 67, 0.15);\n",
              "      fill: #174EA6;\n",
              "    }\n",
              "\n",
              "    [theme=dark] .colab-df-convert {\n",
              "      background-color: #3B4455;\n",
              "      fill: #D2E3FC;\n",
              "    }\n",
              "\n",
              "    [theme=dark] .colab-df-convert:hover {\n",
              "      background-color: #434B5C;\n",
              "      box-shadow: 0px 1px 3px 1px rgba(0, 0, 0, 0.15);\n",
              "      filter: drop-shadow(0px 1px 2px rgba(0, 0, 0, 0.3));\n",
              "      fill: #FFFFFF;\n",
              "    }\n",
              "  </style>\n",
              "\n",
              "      <script>\n",
              "        const buttonEl =\n",
              "          document.querySelector('#df-df91d35b-41cf-4aa6-990a-9bcc7f81d8aa button.colab-df-convert');\n",
              "        buttonEl.style.display =\n",
              "          google.colab.kernel.accessAllowed ? 'block' : 'none';\n",
              "\n",
              "        async function convertToInteractive(key) {\n",
              "          const element = document.querySelector('#df-df91d35b-41cf-4aa6-990a-9bcc7f81d8aa');\n",
              "          const dataTable =\n",
              "            await google.colab.kernel.invokeFunction('convertToInteractive',\n",
              "                                                     [key], {});\n",
              "          if (!dataTable) return;\n",
              "\n",
              "          const docLinkHtml = 'Like what you see? Visit the ' +\n",
              "            '<a target=\"_blank\" href=https://colab.research.google.com/notebooks/data_table.ipynb>data table notebook</a>'\n",
              "            + ' to learn more about interactive tables.';\n",
              "          element.innerHTML = '';\n",
              "          dataTable['output_type'] = 'display_data';\n",
              "          await google.colab.output.renderOutput(dataTable, element);\n",
              "          const docLink = document.createElement('div');\n",
              "          docLink.innerHTML = docLinkHtml;\n",
              "          element.appendChild(docLink);\n",
              "        }\n",
              "      </script>\n",
              "    </div>\n",
              "  </div>\n",
              "  "
            ]
          },
          "metadata": {},
          "execution_count": 3
        }
      ]
    },
    {
      "cell_type": "code",
      "source": [
        "df.head()\n"
      ],
      "metadata": {
        "colab": {
          "base_uri": "https://localhost:8080/",
          "height": 270
        },
        "id": "2hqU3UXL0fHH",
        "outputId": "d975a080-a3ed-4b41-d838-912ca43eae4c"
      },
      "execution_count": null,
      "outputs": [
        {
          "output_type": "execute_result",
          "data": {
            "text/plain": [
              "   person_age  person_income person_home_ownership  person_emp_length  \\\n",
              "0          22          59000                  RENT              123.0   \n",
              "1          21           9600                   OWN                5.0   \n",
              "2          25           9600              MORTGAGE                1.0   \n",
              "3          23          65500                  RENT                4.0   \n",
              "4          24          54400                  RENT                8.0   \n",
              "\n",
              "  loan_intent loan_grade  loan_amnt  loan_int_rate  loan_status  \\\n",
              "0    PERSONAL          D      35000          16.02            1   \n",
              "1   EDUCATION          B       1000          11.14            0   \n",
              "2     MEDICAL          C       5500          12.87            1   \n",
              "3     MEDICAL          C      35000          15.23            1   \n",
              "4     MEDICAL          C      35000          14.27            1   \n",
              "\n",
              "   loan_percent_income cb_person_default_on_file  cb_person_cred_hist_length  \n",
              "0                 0.59                         Y                           3  \n",
              "1                 0.10                         N                           2  \n",
              "2                 0.57                         N                           3  \n",
              "3                 0.53                         N                           2  \n",
              "4                 0.55                         Y                           4  "
            ],
            "text/html": [
              "\n",
              "  <div id=\"df-b2fbd936-0b89-4d17-a382-c41bd144e15f\">\n",
              "    <div class=\"colab-df-container\">\n",
              "      <div>\n",
              "<style scoped>\n",
              "    .dataframe tbody tr th:only-of-type {\n",
              "        vertical-align: middle;\n",
              "    }\n",
              "\n",
              "    .dataframe tbody tr th {\n",
              "        vertical-align: top;\n",
              "    }\n",
              "\n",
              "    .dataframe thead th {\n",
              "        text-align: right;\n",
              "    }\n",
              "</style>\n",
              "<table border=\"1\" class=\"dataframe\">\n",
              "  <thead>\n",
              "    <tr style=\"text-align: right;\">\n",
              "      <th></th>\n",
              "      <th>person_age</th>\n",
              "      <th>person_income</th>\n",
              "      <th>person_home_ownership</th>\n",
              "      <th>person_emp_length</th>\n",
              "      <th>loan_intent</th>\n",
              "      <th>loan_grade</th>\n",
              "      <th>loan_amnt</th>\n",
              "      <th>loan_int_rate</th>\n",
              "      <th>loan_status</th>\n",
              "      <th>loan_percent_income</th>\n",
              "      <th>cb_person_default_on_file</th>\n",
              "      <th>cb_person_cred_hist_length</th>\n",
              "    </tr>\n",
              "  </thead>\n",
              "  <tbody>\n",
              "    <tr>\n",
              "      <th>0</th>\n",
              "      <td>22</td>\n",
              "      <td>59000</td>\n",
              "      <td>RENT</td>\n",
              "      <td>123.0</td>\n",
              "      <td>PERSONAL</td>\n",
              "      <td>D</td>\n",
              "      <td>35000</td>\n",
              "      <td>16.02</td>\n",
              "      <td>1</td>\n",
              "      <td>0.59</td>\n",
              "      <td>Y</td>\n",
              "      <td>3</td>\n",
              "    </tr>\n",
              "    <tr>\n",
              "      <th>1</th>\n",
              "      <td>21</td>\n",
              "      <td>9600</td>\n",
              "      <td>OWN</td>\n",
              "      <td>5.0</td>\n",
              "      <td>EDUCATION</td>\n",
              "      <td>B</td>\n",
              "      <td>1000</td>\n",
              "      <td>11.14</td>\n",
              "      <td>0</td>\n",
              "      <td>0.10</td>\n",
              "      <td>N</td>\n",
              "      <td>2</td>\n",
              "    </tr>\n",
              "    <tr>\n",
              "      <th>2</th>\n",
              "      <td>25</td>\n",
              "      <td>9600</td>\n",
              "      <td>MORTGAGE</td>\n",
              "      <td>1.0</td>\n",
              "      <td>MEDICAL</td>\n",
              "      <td>C</td>\n",
              "      <td>5500</td>\n",
              "      <td>12.87</td>\n",
              "      <td>1</td>\n",
              "      <td>0.57</td>\n",
              "      <td>N</td>\n",
              "      <td>3</td>\n",
              "    </tr>\n",
              "    <tr>\n",
              "      <th>3</th>\n",
              "      <td>23</td>\n",
              "      <td>65500</td>\n",
              "      <td>RENT</td>\n",
              "      <td>4.0</td>\n",
              "      <td>MEDICAL</td>\n",
              "      <td>C</td>\n",
              "      <td>35000</td>\n",
              "      <td>15.23</td>\n",
              "      <td>1</td>\n",
              "      <td>0.53</td>\n",
              "      <td>N</td>\n",
              "      <td>2</td>\n",
              "    </tr>\n",
              "    <tr>\n",
              "      <th>4</th>\n",
              "      <td>24</td>\n",
              "      <td>54400</td>\n",
              "      <td>RENT</td>\n",
              "      <td>8.0</td>\n",
              "      <td>MEDICAL</td>\n",
              "      <td>C</td>\n",
              "      <td>35000</td>\n",
              "      <td>14.27</td>\n",
              "      <td>1</td>\n",
              "      <td>0.55</td>\n",
              "      <td>Y</td>\n",
              "      <td>4</td>\n",
              "    </tr>\n",
              "  </tbody>\n",
              "</table>\n",
              "</div>\n",
              "      <button class=\"colab-df-convert\" onclick=\"convertToInteractive('df-b2fbd936-0b89-4d17-a382-c41bd144e15f')\"\n",
              "              title=\"Convert this dataframe to an interactive table.\"\n",
              "              style=\"display:none;\">\n",
              "        \n",
              "  <svg xmlns=\"http://www.w3.org/2000/svg\" height=\"24px\"viewBox=\"0 0 24 24\"\n",
              "       width=\"24px\">\n",
              "    <path d=\"M0 0h24v24H0V0z\" fill=\"none\"/>\n",
              "    <path d=\"M18.56 5.44l.94 2.06.94-2.06 2.06-.94-2.06-.94-.94-2.06-.94 2.06-2.06.94zm-11 1L8.5 8.5l.94-2.06 2.06-.94-2.06-.94L8.5 2.5l-.94 2.06-2.06.94zm10 10l.94 2.06.94-2.06 2.06-.94-2.06-.94-.94-2.06-.94 2.06-2.06.94z\"/><path d=\"M17.41 7.96l-1.37-1.37c-.4-.4-.92-.59-1.43-.59-.52 0-1.04.2-1.43.59L10.3 9.45l-7.72 7.72c-.78.78-.78 2.05 0 2.83L4 21.41c.39.39.9.59 1.41.59.51 0 1.02-.2 1.41-.59l7.78-7.78 2.81-2.81c.8-.78.8-2.07 0-2.86zM5.41 20L4 18.59l7.72-7.72 1.47 1.35L5.41 20z\"/>\n",
              "  </svg>\n",
              "      </button>\n",
              "      \n",
              "  <style>\n",
              "    .colab-df-container {\n",
              "      display:flex;\n",
              "      flex-wrap:wrap;\n",
              "      gap: 12px;\n",
              "    }\n",
              "\n",
              "    .colab-df-convert {\n",
              "      background-color: #E8F0FE;\n",
              "      border: none;\n",
              "      border-radius: 50%;\n",
              "      cursor: pointer;\n",
              "      display: none;\n",
              "      fill: #1967D2;\n",
              "      height: 32px;\n",
              "      padding: 0 0 0 0;\n",
              "      width: 32px;\n",
              "    }\n",
              "\n",
              "    .colab-df-convert:hover {\n",
              "      background-color: #E2EBFA;\n",
              "      box-shadow: 0px 1px 2px rgba(60, 64, 67, 0.3), 0px 1px 3px 1px rgba(60, 64, 67, 0.15);\n",
              "      fill: #174EA6;\n",
              "    }\n",
              "\n",
              "    [theme=dark] .colab-df-convert {\n",
              "      background-color: #3B4455;\n",
              "      fill: #D2E3FC;\n",
              "    }\n",
              "\n",
              "    [theme=dark] .colab-df-convert:hover {\n",
              "      background-color: #434B5C;\n",
              "      box-shadow: 0px 1px 3px 1px rgba(0, 0, 0, 0.15);\n",
              "      filter: drop-shadow(0px 1px 2px rgba(0, 0, 0, 0.3));\n",
              "      fill: #FFFFFF;\n",
              "    }\n",
              "  </style>\n",
              "\n",
              "      <script>\n",
              "        const buttonEl =\n",
              "          document.querySelector('#df-b2fbd936-0b89-4d17-a382-c41bd144e15f button.colab-df-convert');\n",
              "        buttonEl.style.display =\n",
              "          google.colab.kernel.accessAllowed ? 'block' : 'none';\n",
              "\n",
              "        async function convertToInteractive(key) {\n",
              "          const element = document.querySelector('#df-b2fbd936-0b89-4d17-a382-c41bd144e15f');\n",
              "          const dataTable =\n",
              "            await google.colab.kernel.invokeFunction('convertToInteractive',\n",
              "                                                     [key], {});\n",
              "          if (!dataTable) return;\n",
              "\n",
              "          const docLinkHtml = 'Like what you see? Visit the ' +\n",
              "            '<a target=\"_blank\" href=https://colab.research.google.com/notebooks/data_table.ipynb>data table notebook</a>'\n",
              "            + ' to learn more about interactive tables.';\n",
              "          element.innerHTML = '';\n",
              "          dataTable['output_type'] = 'display_data';\n",
              "          await google.colab.output.renderOutput(dataTable, element);\n",
              "          const docLink = document.createElement('div');\n",
              "          docLink.innerHTML = docLinkHtml;\n",
              "          element.appendChild(docLink);\n",
              "        }\n",
              "      </script>\n",
              "    </div>\n",
              "  </div>\n",
              "  "
            ]
          },
          "metadata": {},
          "execution_count": 4
        }
      ]
    },
    {
      "cell_type": "code",
      "source": [
        "print(df['loan_intent'].unique())"
      ],
      "metadata": {
        "colab": {
          "base_uri": "https://localhost:8080/"
        },
        "id": "UZwm25X2uVRz",
        "outputId": "a7ab0b85-ce89-4023-e61f-60c14c99253a"
      },
      "execution_count": null,
      "outputs": [
        {
          "output_type": "stream",
          "name": "stdout",
          "text": [
            "['PERSONAL' 'EDUCATION' 'MEDICAL' 'VENTURE' 'HOMEIMPROVEMENT'\n",
            " 'DEBTCONSOLIDATION']\n"
          ]
        }
      ]
    },
    {
      "cell_type": "code",
      "source": [
        "df.shape"
      ],
      "metadata": {
        "colab": {
          "base_uri": "https://localhost:8080/"
        },
        "id": "kY7L-nB-0i68",
        "outputId": "e3351455-3cf1-4eea-b697-6753959171c6"
      },
      "execution_count": null,
      "outputs": [
        {
          "output_type": "execute_result",
          "data": {
            "text/plain": [
              "(32581, 12)"
            ]
          },
          "metadata": {},
          "execution_count": 5
        }
      ]
    },
    {
      "cell_type": "code",
      "source": [
        "df.columns\n"
      ],
      "metadata": {
        "colab": {
          "base_uri": "https://localhost:8080/"
        },
        "id": "qYimlYbR0j6f",
        "outputId": "4e72dd7a-1dcc-43ad-c66a-7fbce7a5737f"
      },
      "execution_count": null,
      "outputs": [
        {
          "output_type": "execute_result",
          "data": {
            "text/plain": [
              "Index(['person_age', 'person_income', 'person_home_ownership',\n",
              "       'person_emp_length', 'loan_intent', 'loan_grade', 'loan_amnt',\n",
              "       'loan_int_rate', 'loan_status', 'loan_percent_income',\n",
              "       'cb_person_default_on_file', 'cb_person_cred_hist_length'],\n",
              "      dtype='object')"
            ]
          },
          "metadata": {},
          "execution_count": 6
        }
      ]
    },
    {
      "cell_type": "code",
      "source": [
        "#EDA\n",
        "import seaborn as sns\n",
        "\n",
        "f, ax = plt.subplots(figsize=(10, 8))\n",
        "corr = df.corr()\n",
        "sns.heatmap(corr, mask=np.zeros_like(corr, dtype=np.bool), cmap=sns.diverging_palette(250, 15, as_cmap=True, center = \"dark\"),\n",
        "            square=True, ax=ax)"
      ],
      "metadata": {
        "colab": {
          "base_uri": "https://localhost:8080/",
          "height": 663
        },
        "id": "tq39QJSi0myM",
        "outputId": "ef3646bf-2678-4bc0-fe43-b0c122223328"
      },
      "execution_count": null,
      "outputs": [
        {
          "output_type": "stream",
          "name": "stderr",
          "text": [
            "<ipython-input-7-4afd16476374>:6: DeprecationWarning: `np.bool` is a deprecated alias for the builtin `bool`. To silence this warning, use `bool` by itself. Doing this will not modify any behavior and is safe. If you specifically wanted the numpy scalar type, use `np.bool_` here.\n",
            "Deprecated in NumPy 1.20; for more details and guidance: https://numpy.org/devdocs/release/1.20.0-notes.html#deprecations\n",
            "  sns.heatmap(corr, mask=np.zeros_like(corr, dtype=np.bool), cmap=sns.diverging_palette(250, 15, as_cmap=True, center = \"dark\"),\n"
          ]
        },
        {
          "output_type": "execute_result",
          "data": {
            "text/plain": [
              "<matplotlib.axes._subplots.AxesSubplot at 0x7fb4712a5910>"
            ]
          },
          "metadata": {},
          "execution_count": 7
        },
        {
          "output_type": "display_data",
          "data": {
            "text/plain": [
              "<Figure size 720x576 with 2 Axes>"
            ],
            "image/png": "[encoded data removed]"
          },
          "metadata": {
            "needs_background": "light"
          }
        }
      ]
    },
    {
      "cell_type": "code",
      "source": [
        "plt.figure(figsize=(9,9))\n",
        "sns.countplot(x=df[\"loan_status\"])"
      ],
      "metadata": {
        "colab": {
          "base_uri": "https://localhost:8080/",
          "height": 569
        },
        "id": "IYgKcChm0piL",
        "outputId": "3c48d57d-3f01-4675-9d35-ab22a633f6a0"
      },
      "execution_count": null,
      "outputs": [
        {
          "output_type": "execute_result",
          "data": {
            "text/plain": [
              "<matplotlib.axes._subplots.AxesSubplot at 0x7fb492d6cb50>"
            ]
          },
          "metadata": {},
          "execution_count": 8
        },
        {
          "output_type": "display_data",
          "data": {
            "text/plain": [
              "<Figure size 648x648 with 1 Axes>"
            ],
            "image/png": "[encoded data removed]"
          },
          "metadata": {
            "needs_background": "light"
          }
        }
      ]
    },
    {
      "cell_type": "code",
      "source": [
        "plt.figure(figsize=(9,9))\n",
        "sns.countplot(x=df[\"loan_status\"], hue=df[\"loan_intent\"])"
      ],
      "metadata": {
        "colab": {
          "base_uri": "https://localhost:8080/",
          "height": 569
        },
        "id": "hFXzRqop0tgK",
        "outputId": "4042d957-d1d8-4f18-bf1c-dc9909aff020"
      },
      "execution_count": null,
      "outputs": [
        {
          "output_type": "execute_result",
          "data": {
            "text/plain": [
              "<matplotlib.axes._subplots.AxesSubplot at 0x7fb4713594f0>"
            ]
          },
          "metadata": {},
          "execution_count": 9
        },
        {
          "output_type": "display_data",
          "data": {
            "text/plain": [
              "<Figure size 648x648 with 1 Axes>"
            ],
            "image/png": "[encoded data removed]"
          },
          "metadata": {
            "needs_background": "light"
          }
        }
      ]
    },
    {
      "cell_type": "code",
      "source": [
        "numerical_cols1 = [numname for numname in df.columns if df[numname].dtype in ['int64', 'float64']]\n",
        "numerical_cols1.remove(\"loan_status\")"
      ],
      "metadata": {
        "id": "6vv5KcLO0xKv"
      },
      "execution_count": null,
      "outputs": []
    },
    {
      "cell_type": "code",
      "source": [
        "plt.figure(figsize = (25, 25))\n",
        "for i in enumerate(numerical_cols1):\n",
        "    plt.subplot(3, 3,i[0]+1)\n",
        "    #sns.countplot(i[1],data = df)\n",
        "    sns.distplot(df, x = df[i[1]])\n",
        "    plt.title(i[1])"
      ],
      "metadata": {
        "colab": {
          "base_uri": "https://localhost:8080/",
          "height": 880
        },
        "id": "bVy-wSLf0zFU",
        "outputId": "b9eeae77-98b2-4996-f82c-7eaa638453a7"
      },
      "execution_count": null,
      "outputs": [
        {
          "output_type": "stream",
          "name": "stderr",
          "text": [
            "/usr/local/lib/python3.8/dist-packages/seaborn/distributions.py:2619: FutureWarning: `distplot` is a deprecated function and will be removed in a future version. Please adapt your code to use either `displot` (a figure-level function with similar flexibility) or `histplot` (an axes-level function for histograms).\n",
            "  warnings.warn(msg, FutureWarning)\n",
            "/usr/local/lib/python3.8/dist-packages/seaborn/distributions.py:2619: FutureWarning: `distplot` is a deprecated function and will be removed in a future version. Please adapt your code to use either `displot` (a figure-level function with similar flexibility) or `histplot` (an axes-level function for histograms).\n",
            "  warnings.warn(msg, FutureWarning)\n",
            "/usr/local/lib/python3.8/dist-packages/seaborn/distributions.py:2619: FutureWarning: `distplot` is a deprecated function and will be removed in a future version. Please adapt your code to use either `displot` (a figure-level function with similar flexibility) or `histplot` (an axes-level function for histograms).\n",
            "  warnings.warn(msg, FutureWarning)\n",
            "/usr/local/lib/python3.8/dist-packages/seaborn/distributions.py:2619: FutureWarning: `distplot` is a deprecated function and will be removed in a future version. Please adapt your code to use either `displot` (a figure-level function with similar flexibility) or `histplot` (an axes-level function for histograms).\n",
            "  warnings.warn(msg, FutureWarning)\n",
            "/usr/local/lib/python3.8/dist-packages/seaborn/distributions.py:2619: FutureWarning: `distplot` is a deprecated function and will be removed in a future version. Please adapt your code to use either `displot` (a figure-level function with similar flexibility) or `histplot` (an axes-level function for histograms).\n",
            "  warnings.warn(msg, FutureWarning)\n",
            "/usr/local/lib/python3.8/dist-packages/seaborn/distributions.py:2619: FutureWarning: `distplot` is a deprecated function and will be removed in a future version. Please adapt your code to use either `displot` (a figure-level function with similar flexibility) or `histplot` (an axes-level function for histograms).\n",
            "  warnings.warn(msg, FutureWarning)\n",
            "/usr/local/lib/python3.8/dist-packages/seaborn/distributions.py:2619: FutureWarning: `distplot` is a deprecated function and will be removed in a future version. Please adapt your code to use either `displot` (a figure-level function with similar flexibility) or `histplot` (an axes-level function for histograms).\n",
            "  warnings.warn(msg, FutureWarning)\n"
          ]
        },
        {
          "output_type": "display_data",
          "data": {
            "text/plain": [
              "<Figure size 1800x1800 with 7 Axes>"
            ],
            "image/png": "[encoded data removed]"
          },
          "metadata": {
            "needs_background": "light"
          }
        }
      ]
    },
    {
      "cell_type": "code",
      "source": [
        "#Splitting Dataset\n",
        "x = df.drop(\"loan_status\", axis=1)\n",
        "y = df.loan_status\n",
        "X_train, x_test, y_train, y_test = train_test_split(x, y, test_size=0.2)"
      ],
      "metadata": {
        "id": "usuj1WDT00uQ"
      },
      "execution_count": null,
      "outputs": []
    },
    {
      "cell_type": "code",
      "source": [
        "X_train.isnull().sum()\n",
        "x_test.isnull().sum()"
      ],
      "metadata": {
        "colab": {
          "base_uri": "https://localhost:8080/"
        },
        "id": "zfm-TlBz04Ty",
        "outputId": "76a45d6d-bcf8-4b65-a22e-69de424b6f01"
      },
      "execution_count": null,
      "outputs": [
        {
          "output_type": "execute_result",
          "data": {
            "text/plain": [
              "person_age                      0\n",
              "person_income                   0\n",
              "person_home_ownership           0\n",
              "person_emp_length             188\n",
              "loan_intent                     0\n",
              "loan_grade                      0\n",
              "loan_amnt                       0\n",
              "loan_int_rate                 629\n",
              "loan_percent_income             0\n",
              "cb_person_default_on_file       0\n",
              "cb_person_cred_hist_length      0\n",
              "dtype: int64"
            ]
          },
          "metadata": {},
          "execution_count": 13
        }
      ]
    },
    {
      "cell_type": "code",
      "source": [
        "y_train.head(5)"
      ],
      "metadata": {
        "colab": {
          "base_uri": "https://localhost:8080/"
        },
        "id": "EbJ95c0EBLtm",
        "outputId": "6e64bda1-dc93-4ddd-9b16-251aedeed9e5"
      },
      "execution_count": null,
      "outputs": [
        {
          "output_type": "execute_result",
          "data": {
            "text/plain": [
              "18522    1\n",
              "16475    0\n",
              "24449    0\n",
              "23843    0\n",
              "27174    0\n",
              "Name: loan_status, dtype: int64"
            ]
          },
          "metadata": {},
          "execution_count": 14
        }
      ]
    },
    {
      "cell_type": "code",
      "source": [
        "for colname in x.select_dtypes(\"object\"):\n",
        "    x[colname], _ = x[colname].factorize()\n",
        "discrete_features = x.dtypes == int\n",
        "\n",
        "def make_mi_scores(x, y, discrete_features):\n",
        "    mi_scores = mutual_info_regression(x, y, discrete_features=discrete_features)\n",
        "    mi_scores = pd.Series(mi_scores, name=\"MI Scores\", index=x.columns)"
      ],
      "metadata": {
        "id": "9Dlb2nx605lz"
      },
      "execution_count": null,
      "outputs": []
    },
    {
      "cell_type": "code",
      "source": [
        "#preprocessing\n",
        "numerical_transformer = SimpleImputer(strategy='constant')\n",
        "\n",
        "categorical_cols = [catname for catname in X_train.columns if X_train[catname].nunique() < 10 and \n",
        "                        X_train[catname].dtype == \"object\"]\n",
        "\n",
        "# Select numerical columns\n",
        "\n",
        "# Preprocessing for categorical data\n",
        "categorical_transformer = Pipeline(steps=[\n",
        "    ('imputer', SimpleImputer(strategy='most_frequent')),\n",
        "    ('onehot', OneHotEncoder(handle_unknown='ignore'))\n",
        "])\n",
        "\n",
        "\n",
        "# Bundle preprocessing for numerical and categorical data\n",
        "preprocessor = ColumnTransformer(\n",
        "    transformers=[\n",
        "        ('num', numerical_transformer, numerical_cols1),\n",
        "        ('cat', categorical_transformer, categorical_cols)\n",
        "    ])"
      ],
      "metadata": {
        "id": "m_U8ANp2077Q"
      },
      "execution_count": null,
      "outputs": []
    },
    {
      "cell_type": "code",
      "source": [
        "#feature selection\n",
        "from sklearn.feature_selection import SelectPercentile, chi2\n",
        "selection = SelectPercentile(chi2, percentile= 80)"
      ],
      "metadata": {
        "id": "HDcCMCcW0_Dy"
      },
      "execution_count": null,
      "outputs": []
    },
    {
      "cell_type": "code",
      "source": [
        "#model\n",
        "model  = XGBClassifier(learning_rate = 0.05)"
      ],
      "metadata": {
        "id": "Pm_zZiyI1Auz"
      },
      "execution_count": null,
      "outputs": []
    },
    {
      "cell_type": "code",
      "source": [
        "#pipeline\n",
        "\n",
        "mypipeline = Pipeline(steps = [(\"preprocessor\", preprocessor),\n",
        "                               (\"selection\", selection),\n",
        "                               ('model', model)\n",
        "                              ])"
      ],
      "metadata": {
        "id": "z6AURhnt1CRh"
      },
      "execution_count": null,
      "outputs": []
    },
    {
      "cell_type": "code",
      "source": [
        "#crossvalidation and scoring\n",
        "scores = cross_val_score(mypipeline, X_train, y_train,\n",
        "                              cv=5,\n",
        "                              scoring=\"accuracy\")\n",
        "\n",
        "print(\"MAE score:\\n\", scores.mean())"
      ],
      "metadata": {
        "colab": {
          "base_uri": "https://localhost:8080/"
        },
        "id": "rTkLah961DrV",
        "outputId": "9eac65d3-0322-484b-89e0-fa93410dc10b"
      },
      "execution_count": null,
      "outputs": [
        {
          "output_type": "stream",
          "name": "stdout",
          "text": [
            "MAE score:\n",
            " 0.926028190636815\n"
          ]
        }
      ]
    },
    {
      "cell_type": "code",
      "source": [
        "#Hyperoptimization\n",
        "param_grid = {\n",
        "    \"model__learning_rate\": np.arange(0.01,0.3,0.08),\n",
        "    \"model__max_depth\":np.arange(1,10,1)\n",
        "}\n",
        "\n",
        "hyper = GridSearchCV(\n",
        "    estimator = mypipeline,\n",
        "    param_grid = param_grid ,\n",
        "    scoring = \"accuracy\",\n",
        "    verbose = 10,\n",
        "    cv = 5)\n",
        "\n",
        "hyper.fit(X_train,y_train)"
      ],
      "metadata": {
        "colab": {
          "base_uri": "https://localhost:8080/",
          "height": 1000
        },
        "id": "aLPUxeRx1GWL",
        "outputId": "82694783-3593-4c0f-d013-a02571704c82"
      },
      "execution_count": null,
      "outputs": [
        {
          "output_type": "stream",
          "name": "stdout",
          "text": [
            "Fitting 5 folds for each of 36 candidates, totalling 180 fits\n",
            "[CV 1/5; 1/36] START model__learning_rate=0.01, model__max_depth=1..............\n",
            "[CV 1/5; 1/36] END model__learning_rate=0.01, model__max_depth=1;, score=0.812 total time=   0.6s\n",
            "[CV 2/5; 1/36] START model__learning_rate=0.01, model__max_depth=1..............\n",
            "[CV 2/5; 1/36] END model__learning_rate=0.01, model__max_depth=1;, score=0.824 total time=   0.6s\n",
            "[CV 3/5; 1/36] START model__learning_rate=0.01, model__max_depth=1..............\n",
            "[CV 3/5; 1/36] END model__learning_rate=0.01, model__max_depth=1;, score=0.828 total time=   0.7s\n",
            "[CV 4/5; 1/36] START model__learning_rate=0.01, model__max_depth=1..............\n",
            "[CV 4/5; 1/36] END model__learning_rate=0.01, model__max_depth=1;, score=0.825 total time=   0.7s\n",
            "[CV 5/5; 1/36] START model__learning_rate=0.01, model__max_depth=1..............\n",
            "[CV 5/5; 1/36] END model__learning_rate=0.01, model__max_depth=1;, score=0.828 total time=   0.7s\n",
            "[CV 1/5; 2/36] START model__learning_rate=0.01, model__max_depth=2..............\n",
            "[CV 1/5; 2/36] END model__learning_rate=0.01, model__max_depth=2;, score=0.867 total time=   0.9s\n",
            "[CV 2/5; 2/36] START model__learning_rate=0.01, model__max_depth=2..............\n",
            "[CV 2/5; 2/36] END model__learning_rate=0.01, model__max_depth=2;, score=0.854 total time=   0.9s\n",
            "[CV 3/5; 2/36] START model__learning_rate=0.01, model__max_depth=2..............\n",
            "[CV 3/5; 2/36] END model__learning_rate=0.01, model__max_depth=2;, score=0.864 total time=   1.0s\n",
            "[CV 4/5; 2/36] START model__learning_rate=0.01, model__max_depth=2..............\n",
            "[CV 4/5; 2/36] END model__learning_rate=0.01, model__max_depth=2;, score=0.862 total time=   1.0s\n",
            "[CV 5/5; 2/36] START model__learning_rate=0.01, model__max_depth=2..............\n",
            "[CV 5/5; 2/36] END model__learning_rate=0.01, model__max_depth=2;, score=0.861 total time=   1.0s\n",
            "[CV 1/5; 3/36] START model__learning_rate=0.01, model__max_depth=3..............\n",
            "[CV 1/5; 3/36] END model__learning_rate=0.01, model__max_depth=3;, score=0.908 total time=   1.4s\n",
            "[CV 2/5; 3/36] START model__learning_rate=0.01, model__max_depth=3..............\n",
            "[CV 2/5; 3/36] END model__learning_rate=0.01, model__max_depth=3;, score=0.895 total time=   1.3s\n",
            "[CV 3/5; 3/36] START model__learning_rate=0.01, model__max_depth=3..............\n",
            "[CV 3/5; 3/36] END model__learning_rate=0.01, model__max_depth=3;, score=0.909 total time=   1.3s\n",
            "[CV 4/5; 3/36] START model__learning_rate=0.01, model__max_depth=3..............\n",
            "[CV 4/5; 3/36] END model__learning_rate=0.01, model__max_depth=3;, score=0.902 total time=   1.3s\n",
            "[CV 5/5; 3/36] START model__learning_rate=0.01, model__max_depth=3..............\n",
            "[CV 5/5; 3/36] END model__learning_rate=0.01, model__max_depth=3;, score=0.898 total time=   1.2s\n",
            "[CV 1/5; 4/36] START model__learning_rate=0.01, model__max_depth=4..............\n",
            "[CV 1/5; 4/36] END model__learning_rate=0.01, model__max_depth=4;, score=0.920 total time=   1.6s\n",
            "[CV 2/5; 4/36] START model__learning_rate=0.01, model__max_depth=4..............\n",
            "[CV 2/5; 4/36] END model__learning_rate=0.01, model__max_depth=4;, score=0.911 total time=   1.6s\n",
            "[CV 3/5; 4/36] START model__learning_rate=0.01, model__max_depth=4..............\n",
            "[CV 3/5; 4/36] END model__learning_rate=0.01, model__max_depth=4;, score=0.919 total time=   1.7s\n",
            "[CV 4/5; 4/36] START model__learning_rate=0.01, model__max_depth=4..............\n",
            "[CV 4/5; 4/36] END model__learning_rate=0.01, model__max_depth=4;, score=0.920 total time=   1.6s\n",
            "[CV 5/5; 4/36] START model__learning_rate=0.01, model__max_depth=4..............\n",
            "[CV 5/5; 4/36] END model__learning_rate=0.01, model__max_depth=4;, score=0.915 total time=   1.6s\n",
            "[CV 1/5; 5/36] START model__learning_rate=0.01, model__max_depth=5..............\n",
            "[CV 1/5; 5/36] END model__learning_rate=0.01, model__max_depth=5;, score=0.921 total time=   2.0s\n",
            "[CV 2/5; 5/36] START model__learning_rate=0.01, model__max_depth=5..............\n",
            "[CV 2/5; 5/36] END model__learning_rate=0.01, model__max_depth=5;, score=0.915 total time=   2.0s\n",
            "[CV 3/5; 5/36] START model__learning_rate=0.01, model__max_depth=5..............\n",
            "[CV 3/5; 5/36] END model__learning_rate=0.01, model__max_depth=5;, score=0.922 total time=   1.9s\n",
            "[CV 4/5; 5/36] START model__learning_rate=0.01, model__max_depth=5..............\n",
            "[CV 4/5; 5/36] END model__learning_rate=0.01, model__max_depth=5;, score=0.921 total time=   2.0s\n",
            "[CV 5/5; 5/36] START model__learning_rate=0.01, model__max_depth=5..............\n",
            "[CV 5/5; 5/36] END model__learning_rate=0.01, model__max_depth=5;, score=0.918 total time=   2.0s\n",
            "[CV 1/5; 6/36] START model__learning_rate=0.01, model__max_depth=6..............\n",
            "[CV 1/5; 6/36] END model__learning_rate=0.01, model__max_depth=6;, score=0.925 total time=   2.5s\n",
            "[CV 2/5; 6/36] START model__learning_rate=0.01, model__max_depth=6..............\n",
            "[CV 2/5; 6/36] END model__learning_rate=0.01, model__max_depth=6;, score=0.915 total time=   2.5s\n",
            "[CV 3/5; 6/36] START model__learning_rate=0.01, model__max_depth=6..............\n",
            "[CV 3/5; 6/36] END model__learning_rate=0.01, model__max_depth=6;, score=0.928 total time=   2.5s\n",
            "[CV 4/5; 6/36] START model__learning_rate=0.01, model__max_depth=6..............\n",
            "[CV 4/5; 6/36] END model__learning_rate=0.01, model__max_depth=6;, score=0.922 total time=   2.5s\n",
            "[CV 5/5; 6/36] START model__learning_rate=0.01, model__max_depth=6..............\n",
            "[CV 5/5; 6/36] END model__learning_rate=0.01, model__max_depth=6;, score=0.919 total time=   2.5s\n",
            "[CV 1/5; 7/36] START model__learning_rate=0.01, model__max_depth=7..............\n",
            "[CV 1/5; 7/36] END model__learning_rate=0.01, model__max_depth=7;, score=0.924 total time=   3.0s\n",
            "[CV 2/5; 7/36] START model__learning_rate=0.01, model__max_depth=7..............\n",
            "[CV 2/5; 7/36] END model__learning_rate=0.01, model__max_depth=7;, score=0.921 total time=   3.0s\n",
            "[CV 3/5; 7/36] START model__learning_rate=0.01, model__max_depth=7..............\n",
            "[CV 3/5; 7/36] END model__learning_rate=0.01, model__max_depth=7;, score=0.930 total time=   2.9s\n",
            "[CV 4/5; 7/36] START model__learning_rate=0.01, model__max_depth=7..............\n",
            "[CV 4/5; 7/36] END model__learning_rate=0.01, model__max_depth=7;, score=0.924 total time=   2.9s\n",
            "[CV 5/5; 7/36] START model__learning_rate=0.01, model__max_depth=7..............\n",
            "[CV 5/5; 7/36] END model__learning_rate=0.01, model__max_depth=7;, score=0.922 total time=   2.9s\n",
            "[CV 1/5; 8/36] START model__learning_rate=0.01, model__max_depth=8..............\n",
            "[CV 1/5; 8/36] END model__learning_rate=0.01, model__max_depth=8;, score=0.927 total time=   3.5s\n",
            "[CV 2/5; 8/36] START model__learning_rate=0.01, model__max_depth=8..............\n",
            "[CV 2/5; 8/36] END model__learning_rate=0.01, model__max_depth=8;, score=0.920 total time=   3.4s\n",
            "[CV 3/5; 8/36] START model__learning_rate=0.01, model__max_depth=8..............\n",
            "[CV 3/5; 8/36] END model__learning_rate=0.01, model__max_depth=8;, score=0.930 total time=   3.4s\n",
            "[CV 4/5; 8/36] START model__learning_rate=0.01, model__max_depth=8..............\n",
            "[CV 4/5; 8/36] END model__learning_rate=0.01, model__max_depth=8;, score=0.926 total time=   3.4s\n",
            "[CV 5/5; 8/36] START model__learning_rate=0.01, model__max_depth=8..............\n",
            "[CV 5/5; 8/36] END model__learning_rate=0.01, model__max_depth=8;, score=0.923 total time=   3.5s\n",
            "[CV 1/5; 9/36] START model__learning_rate=0.01, model__max_depth=9..............\n",
            "[CV 1/5; 9/36] END model__learning_rate=0.01, model__max_depth=9;, score=0.927 total time=   4.0s\n",
            "[CV 2/5; 9/36] START model__learning_rate=0.01, model__max_depth=9..............\n",
            "[CV 2/5; 9/36] END model__learning_rate=0.01, model__max_depth=9;, score=0.921 total time=   3.9s\n",
            "[CV 3/5; 9/36] START model__learning_rate=0.01, model__max_depth=9..............\n",
            "[CV 3/5; 9/36] END model__learning_rate=0.01, model__max_depth=9;, score=0.929 total time=   3.9s\n",
            "[CV 4/5; 9/36] START model__learning_rate=0.01, model__max_depth=9..............\n",
            "[CV 4/5; 9/36] END model__learning_rate=0.01, model__max_depth=9;, score=0.927 total time=   3.9s\n",
            "[CV 5/5; 9/36] START model__learning_rate=0.01, model__max_depth=9..............\n",
            "[CV 5/5; 9/36] END model__learning_rate=0.01, model__max_depth=9;, score=0.923 total time=   4.0s\n",
            "[CV 1/5; 10/36] START model__learning_rate=0.09, model__max_depth=1.............\n",
            "[CV 1/5; 10/36] END model__learning_rate=0.09, model__max_depth=1;, score=0.882 total time=   0.6s\n",
            "[CV 2/5; 10/36] START model__learning_rate=0.09, model__max_depth=1.............\n",
            "[CV 2/5; 10/36] END model__learning_rate=0.09, model__max_depth=1;, score=0.873 total time=   0.7s\n",
            "[CV 3/5; 10/36] START model__learning_rate=0.09, model__max_depth=1.............\n",
            "[CV 3/5; 10/36] END model__learning_rate=0.09, model__max_depth=1;, score=0.879 total time=   0.7s\n",
            "[CV 4/5; 10/36] START model__learning_rate=0.09, model__max_depth=1.............\n",
            "[CV 4/5; 10/36] END model__learning_rate=0.09, model__max_depth=1;, score=0.875 total time=   0.6s\n",
            "[CV 5/5; 10/36] START model__learning_rate=0.09, model__max_depth=1.............\n",
            "[CV 5/5; 10/36] END model__learning_rate=0.09, model__max_depth=1;, score=0.875 total time=   0.7s\n",
            "[CV 1/5; 11/36] START model__learning_rate=0.09, model__max_depth=2.............\n",
            "[CV 1/5; 11/36] END model__learning_rate=0.09, model__max_depth=2;, score=0.904 total time=   1.0s\n",
            "[CV 2/5; 11/36] START model__learning_rate=0.09, model__max_depth=2.............\n",
            "[CV 2/5; 11/36] END model__learning_rate=0.09, model__max_depth=2;, score=0.901 total time=   1.0s\n",
            "[CV 3/5; 11/36] START model__learning_rate=0.09, model__max_depth=2.............\n",
            "[CV 3/5; 11/36] END model__learning_rate=0.09, model__max_depth=2;, score=0.909 total time=   1.0s\n",
            "[CV 4/5; 11/36] START model__learning_rate=0.09, model__max_depth=2.............\n",
            "[CV 4/5; 11/36] END model__learning_rate=0.09, model__max_depth=2;, score=0.907 total time=   1.0s\n",
            "[CV 5/5; 11/36] START model__learning_rate=0.09, model__max_depth=2.............\n",
            "[CV 5/5; 11/36] END model__learning_rate=0.09, model__max_depth=2;, score=0.908 total time=   1.0s\n",
            "[CV 1/5; 12/36] START model__learning_rate=0.09, model__max_depth=3.............\n",
            "[CV 1/5; 12/36] END model__learning_rate=0.09, model__max_depth=3;, score=0.919 total time=   1.3s\n",
            "[CV 2/5; 12/36] START model__learning_rate=0.09, model__max_depth=3.............\n",
            "[CV 2/5; 12/36] END model__learning_rate=0.09, model__max_depth=3;, score=0.917 total time=   1.3s\n",
            "[CV 3/5; 12/36] START model__learning_rate=0.09, model__max_depth=3.............\n",
            "[CV 3/5; 12/36] END model__learning_rate=0.09, model__max_depth=3;, score=0.923 total time=   1.3s\n",
            "[CV 4/5; 12/36] START model__learning_rate=0.09, model__max_depth=3.............\n",
            "[CV 4/5; 12/36] END model__learning_rate=0.09, model__max_depth=3;, score=0.921 total time=   1.3s\n",
            "[CV 5/5; 12/36] START model__learning_rate=0.09, model__max_depth=3.............\n",
            "[CV 5/5; 12/36] END model__learning_rate=0.09, model__max_depth=3;, score=0.922 total time=   1.3s\n",
            "[CV 1/5; 13/36] START model__learning_rate=0.09, model__max_depth=4.............\n",
            "[CV 1/5; 13/36] END model__learning_rate=0.09, model__max_depth=4;, score=0.925 total time=   1.7s\n",
            "[CV 2/5; 13/36] START model__learning_rate=0.09, model__max_depth=4.............\n",
            "[CV 2/5; 13/36] END model__learning_rate=0.09, model__max_depth=4;, score=0.921 total time=   1.6s\n",
            "[CV 3/5; 13/36] START model__learning_rate=0.09, model__max_depth=4.............\n",
            "[CV 3/5; 13/36] END model__learning_rate=0.09, model__max_depth=4;, score=0.928 total time=   1.7s\n",
            "[CV 4/5; 13/36] START model__learning_rate=0.09, model__max_depth=4.............\n",
            "[CV 4/5; 13/36] END model__learning_rate=0.09, model__max_depth=4;, score=0.926 total time=   1.6s\n",
            "[CV 5/5; 13/36] START model__learning_rate=0.09, model__max_depth=4.............\n",
            "[CV 5/5; 13/36] END model__learning_rate=0.09, model__max_depth=4;, score=0.924 total time=   1.7s\n",
            "[CV 1/5; 14/36] START model__learning_rate=0.09, model__max_depth=5.............\n",
            "[CV 1/5; 14/36] END model__learning_rate=0.09, model__max_depth=5;, score=0.927 total time=   2.1s\n",
            "[CV 2/5; 14/36] START model__learning_rate=0.09, model__max_depth=5.............\n",
            "[CV 2/5; 14/36] END model__learning_rate=0.09, model__max_depth=5;, score=0.922 total time=   2.0s\n",
            "[CV 3/5; 14/36] START model__learning_rate=0.09, model__max_depth=5.............\n",
            "[CV 3/5; 14/36] END model__learning_rate=0.09, model__max_depth=5;, score=0.932 total time=   2.1s\n",
            "[CV 4/5; 14/36] START model__learning_rate=0.09, model__max_depth=5.............\n",
            "[CV 4/5; 14/36] END model__learning_rate=0.09, model__max_depth=5;, score=0.927 total time=   5.0s\n",
            "[CV 5/5; 14/36] START model__learning_rate=0.09, model__max_depth=5.............\n",
            "[CV 5/5; 14/36] END model__learning_rate=0.09, model__max_depth=5;, score=0.926 total time=   2.0s\n",
            "[CV 1/5; 15/36] START model__learning_rate=0.09, model__max_depth=6.............\n",
            "[CV 1/5; 15/36] END model__learning_rate=0.09, model__max_depth=6;, score=0.929 total time=   2.4s\n",
            "[CV 2/5; 15/36] START model__learning_rate=0.09, model__max_depth=6.............\n",
            "[CV 2/5; 15/36] END model__learning_rate=0.09, model__max_depth=6;, score=0.922 total time=   2.5s\n",
            "[CV 3/5; 15/36] START model__learning_rate=0.09, model__max_depth=6.............\n",
            "[CV 3/5; 15/36] END model__learning_rate=0.09, model__max_depth=6;, score=0.934 total time=   2.4s\n",
            "[CV 4/5; 15/36] START model__learning_rate=0.09, model__max_depth=6.............\n",
            "[CV 4/5; 15/36] END model__learning_rate=0.09, model__max_depth=6;, score=0.928 total time=   2.4s\n",
            "[CV 5/5; 15/36] START model__learning_rate=0.09, model__max_depth=6.............\n",
            "[CV 5/5; 15/36] END model__learning_rate=0.09, model__max_depth=6;, score=0.926 total time=   2.4s\n",
            "[CV 1/5; 16/36] START model__learning_rate=0.09, model__max_depth=7.............\n",
            "[CV 1/5; 16/36] END model__learning_rate=0.09, model__max_depth=7;, score=0.930 total time=   2.9s\n",
            "[CV 2/5; 16/36] START model__learning_rate=0.09, model__max_depth=7.............\n",
            "[CV 2/5; 16/36] END model__learning_rate=0.09, model__max_depth=7;, score=0.923 total time=   2.8s\n",
            "[CV 3/5; 16/36] START model__learning_rate=0.09, model__max_depth=7.............\n",
            "[CV 3/5; 16/36] END model__learning_rate=0.09, model__max_depth=7;, score=0.934 total time=   2.8s\n",
            "[CV 4/5; 16/36] START model__learning_rate=0.09, model__max_depth=7.............\n",
            "[CV 4/5; 16/36] END model__learning_rate=0.09, model__max_depth=7;, score=0.930 total time=   2.9s\n",
            "[CV 5/5; 16/36] START model__learning_rate=0.09, model__max_depth=7.............\n",
            "[CV 5/5; 16/36] END model__learning_rate=0.09, model__max_depth=7;, score=0.926 total time=   2.9s\n",
            "[CV 1/5; 17/36] START model__learning_rate=0.09, model__max_depth=8.............\n",
            "[CV 1/5; 17/36] END model__learning_rate=0.09, model__max_depth=8;, score=0.928 total time=   3.3s\n",
            "[CV 2/5; 17/36] START model__learning_rate=0.09, model__max_depth=8.............\n",
            "[CV 2/5; 17/36] END model__learning_rate=0.09, model__max_depth=8;, score=0.924 total time=   3.3s\n",
            "[CV 3/5; 17/36] START model__learning_rate=0.09, model__max_depth=8.............\n",
            "[CV 3/5; 17/36] END model__learning_rate=0.09, model__max_depth=8;, score=0.932 total time=   3.3s\n",
            "[CV 4/5; 17/36] START model__learning_rate=0.09, model__max_depth=8.............\n",
            "[CV 4/5; 17/36] END model__learning_rate=0.09, model__max_depth=8;, score=0.932 total time=   3.3s\n",
            "[CV 5/5; 17/36] START model__learning_rate=0.09, model__max_depth=8.............\n",
            "[CV 5/5; 17/36] END model__learning_rate=0.09, model__max_depth=8;, score=0.926 total time=   4.3s\n",
            "[CV 1/5; 18/36] START model__learning_rate=0.09, model__max_depth=9.............\n",
            "[CV 1/5; 18/36] END model__learning_rate=0.09, model__max_depth=9;, score=0.929 total time=   8.0s\n",
            "[CV 2/5; 18/36] START model__learning_rate=0.09, model__max_depth=9.............\n",
            "[CV 2/5; 18/36] END model__learning_rate=0.09, model__max_depth=9;, score=0.924 total time=   4.3s\n",
            "[CV 3/5; 18/36] START model__learning_rate=0.09, model__max_depth=9.............\n",
            "[CV 3/5; 18/36] END model__learning_rate=0.09, model__max_depth=9;, score=0.932 total time=   3.8s\n",
            "[CV 4/5; 18/36] START model__learning_rate=0.09, model__max_depth=9.............\n",
            "[CV 4/5; 18/36] END model__learning_rate=0.09, model__max_depth=9;, score=0.932 total time=   3.7s\n",
            "[CV 5/5; 18/36] START model__learning_rate=0.09, model__max_depth=9.............\n",
            "[CV 5/5; 18/36] END model__learning_rate=0.09, model__max_depth=9;, score=0.925 total time=   3.8s\n",
            "[CV 1/5; 19/36] START model__learning_rate=0.17, model__max_depth=1.............\n",
            "[CV 1/5; 19/36] END model__learning_rate=0.17, model__max_depth=1;, score=0.885 total time=   0.7s\n",
            "[CV 2/5; 19/36] START model__learning_rate=0.17, model__max_depth=1.............\n",
            "[CV 2/5; 19/36] END model__learning_rate=0.17, model__max_depth=1;, score=0.877 total time=   0.7s\n",
            "[CV 3/5; 19/36] START model__learning_rate=0.17, model__max_depth=1.............\n",
            "[CV 3/5; 19/36] END model__learning_rate=0.17, model__max_depth=1;, score=0.885 total time=   0.6s\n",
            "[CV 4/5; 19/36] START model__learning_rate=0.17, model__max_depth=1.............\n",
            "[CV 4/5; 19/36] END model__learning_rate=0.17, model__max_depth=1;, score=0.882 total time=   0.7s\n",
            "[CV 5/5; 19/36] START model__learning_rate=0.17, model__max_depth=1.............\n",
            "[CV 5/5; 19/36] END model__learning_rate=0.17, model__max_depth=1;, score=0.886 total time=   0.7s\n",
            "[CV 1/5; 20/36] START model__learning_rate=0.17, model__max_depth=2.............\n",
            "[CV 1/5; 20/36] END model__learning_rate=0.17, model__max_depth=2;, score=0.915 total time=   0.9s\n",
            "[CV 2/5; 20/36] START model__learning_rate=0.17, model__max_depth=2.............\n",
            "[CV 2/5; 20/36] END model__learning_rate=0.17, model__max_depth=2;, score=0.910 total time=   0.9s\n",
            "[CV 3/5; 20/36] START model__learning_rate=0.17, model__max_depth=2.............\n",
            "[CV 3/5; 20/36] END model__learning_rate=0.17, model__max_depth=2;, score=0.917 total time=   1.0s\n",
            "[CV 4/5; 20/36] START model__learning_rate=0.17, model__max_depth=2.............\n",
            "[CV 4/5; 20/36] END model__learning_rate=0.17, model__max_depth=2;, score=0.915 total time=   1.0s\n",
            "[CV 5/5; 20/36] START model__learning_rate=0.17, model__max_depth=2.............\n",
            "[CV 5/5; 20/36] END model__learning_rate=0.17, model__max_depth=2;, score=0.917 total time=   1.0s\n",
            "[CV 1/5; 21/36] START model__learning_rate=0.17, model__max_depth=3.............\n",
            "[CV 1/5; 21/36] END model__learning_rate=0.17, model__max_depth=3;, score=0.925 total time=   1.3s\n",
            "[CV 2/5; 21/36] START model__learning_rate=0.17, model__max_depth=3.............\n",
            "[CV 2/5; 21/36] END model__learning_rate=0.17, model__max_depth=3;, score=0.921 total time=   1.3s\n",
            "[CV 3/5; 21/36] START model__learning_rate=0.17, model__max_depth=3.............\n",
            "[CV 3/5; 21/36] END model__learning_rate=0.17, model__max_depth=3;, score=0.929 total time=   1.3s\n",
            "[CV 4/5; 21/36] START model__learning_rate=0.17, model__max_depth=3.............\n",
            "[CV 4/5; 21/36] END model__learning_rate=0.17, model__max_depth=3;, score=0.928 total time=   1.2s\n",
            "[CV 5/5; 21/36] START model__learning_rate=0.17, model__max_depth=3.............\n",
            "[CV 5/5; 21/36] END model__learning_rate=0.17, model__max_depth=3;, score=0.925 total time=   1.3s\n",
            "[CV 1/5; 22/36] START model__learning_rate=0.17, model__max_depth=4.............\n",
            "[CV 1/5; 22/36] END model__learning_rate=0.17, model__max_depth=4;, score=0.928 total time=   1.6s\n",
            "[CV 2/5; 22/36] START model__learning_rate=0.17, model__max_depth=4.............\n",
            "[CV 2/5; 22/36] END model__learning_rate=0.17, model__max_depth=4;, score=0.923 total time=   1.6s\n",
            "[CV 3/5; 22/36] START model__learning_rate=0.17, model__max_depth=4.............\n",
            "[CV 3/5; 22/36] END model__learning_rate=0.17, model__max_depth=4;, score=0.932 total time=   1.6s\n",
            "[CV 4/5; 22/36] START model__learning_rate=0.17, model__max_depth=4.............\n",
            "[CV 4/5; 22/36] END model__learning_rate=0.17, model__max_depth=4;, score=0.929 total time=   1.6s\n",
            "[CV 5/5; 22/36] START model__learning_rate=0.17, model__max_depth=4.............\n",
            "[CV 5/5; 22/36] END model__learning_rate=0.17, model__max_depth=4;, score=0.927 total time=   1.6s\n",
            "[CV 1/5; 23/36] START model__learning_rate=0.17, model__max_depth=5.............\n",
            "[CV 1/5; 23/36] END model__learning_rate=0.17, model__max_depth=5;, score=0.929 total time=   2.0s\n",
            "[CV 2/5; 23/36] START model__learning_rate=0.17, model__max_depth=5.............\n",
            "[CV 2/5; 23/36] END model__learning_rate=0.17, model__max_depth=5;, score=0.923 total time=   2.0s\n",
            "[CV 3/5; 23/36] START model__learning_rate=0.17, model__max_depth=5.............\n",
            "[CV 3/5; 23/36] END model__learning_rate=0.17, model__max_depth=5;, score=0.933 total time=   2.0s\n",
            "[CV 4/5; 23/36] START model__learning_rate=0.17, model__max_depth=5.............\n",
            "[CV 4/5; 23/36] END model__learning_rate=0.17, model__max_depth=5;, score=0.929 total time=   2.0s\n",
            "[CV 5/5; 23/36] START model__learning_rate=0.17, model__max_depth=5.............\n",
            "[CV 5/5; 23/36] END model__learning_rate=0.17, model__max_depth=5;, score=0.926 total time=   2.0s\n",
            "[CV 1/5; 24/36] START model__learning_rate=0.17, model__max_depth=6.............\n",
            "[CV 1/5; 24/36] END model__learning_rate=0.17, model__max_depth=6;, score=0.930 total time=   2.4s\n",
            "[CV 2/5; 24/36] START model__learning_rate=0.17, model__max_depth=6.............\n",
            "[CV 2/5; 24/36] END model__learning_rate=0.17, model__max_depth=6;, score=0.923 total time=   2.4s\n",
            "[CV 3/5; 24/36] START model__learning_rate=0.17, model__max_depth=6.............\n",
            "[CV 3/5; 24/36] END model__learning_rate=0.17, model__max_depth=6;, score=0.932 total time=   2.4s\n",
            "[CV 4/5; 24/36] START model__learning_rate=0.17, model__max_depth=6.............\n",
            "[CV 4/5; 24/36] END model__learning_rate=0.17, model__max_depth=6;, score=0.930 total time=   2.4s\n",
            "[CV 5/5; 24/36] START model__learning_rate=0.17, model__max_depth=6.............\n",
            "[CV 5/5; 24/36] END model__learning_rate=0.17, model__max_depth=6;, score=0.928 total time=   2.4s\n",
            "[CV 1/5; 25/36] START model__learning_rate=0.17, model__max_depth=7.............\n",
            "[CV 1/5; 25/36] END model__learning_rate=0.17, model__max_depth=7;, score=0.928 total time=   2.8s\n",
            "[CV 2/5; 25/36] START model__learning_rate=0.17, model__max_depth=7.............\n",
            "[CV 2/5; 25/36] END model__learning_rate=0.17, model__max_depth=7;, score=0.924 total time=   2.8s\n",
            "[CV 3/5; 25/36] START model__learning_rate=0.17, model__max_depth=7.............\n",
            "[CV 3/5; 25/36] END model__learning_rate=0.17, model__max_depth=7;, score=0.934 total time=   2.8s\n",
            "[CV 4/5; 25/36] START model__learning_rate=0.17, model__max_depth=7.............\n",
            "[CV 4/5; 25/36] END model__learning_rate=0.17, model__max_depth=7;, score=0.932 total time=   2.8s\n",
            "[CV 5/5; 25/36] START model__learning_rate=0.17, model__max_depth=7.............\n",
            "[CV 5/5; 25/36] END model__learning_rate=0.17, model__max_depth=7;, score=0.926 total time=   2.7s\n",
            "[CV 1/5; 26/36] START model__learning_rate=0.17, model__max_depth=8.............\n",
            "[CV 1/5; 26/36] END model__learning_rate=0.17, model__max_depth=8;, score=0.929 total time=   3.1s\n",
            "[CV 2/5; 26/36] START model__learning_rate=0.17, model__max_depth=8.............\n",
            "[CV 2/5; 26/36] END model__learning_rate=0.17, model__max_depth=8;, score=0.923 total time=   3.2s\n",
            "[CV 3/5; 26/36] START model__learning_rate=0.17, model__max_depth=8.............\n",
            "[CV 3/5; 26/36] END model__learning_rate=0.17, model__max_depth=8;, score=0.934 total time=   3.1s\n",
            "[CV 4/5; 26/36] START model__learning_rate=0.17, model__max_depth=8.............\n",
            "[CV 4/5; 26/36] END model__learning_rate=0.17, model__max_depth=8;, score=0.932 total time=   3.2s\n",
            "[CV 5/5; 26/36] START model__learning_rate=0.17, model__max_depth=8.............\n",
            "[CV 5/5; 26/36] END model__learning_rate=0.17, model__max_depth=8;, score=0.926 total time=   3.2s\n",
            "[CV 1/5; 27/36] START model__learning_rate=0.17, model__max_depth=9.............\n",
            "[CV 1/5; 27/36] END model__learning_rate=0.17, model__max_depth=9;, score=0.929 total time=   3.6s\n",
            "[CV 2/5; 27/36] START model__learning_rate=0.17, model__max_depth=9.............\n",
            "[CV 2/5; 27/36] END model__learning_rate=0.17, model__max_depth=9;, score=0.925 total time=   3.5s\n",
            "[CV 3/5; 27/36] START model__learning_rate=0.17, model__max_depth=9.............\n",
            "[CV 3/5; 27/36] END model__learning_rate=0.17, model__max_depth=9;, score=0.932 total time=   3.6s\n",
            "[CV 4/5; 27/36] START model__learning_rate=0.17, model__max_depth=9.............\n",
            "[CV 4/5; 27/36] END model__learning_rate=0.17, model__max_depth=9;, score=0.934 total time=   3.7s\n",
            "[CV 5/5; 27/36] START model__learning_rate=0.17, model__max_depth=9.............\n",
            "[CV 5/5; 27/36] END model__learning_rate=0.17, model__max_depth=9;, score=0.926 total time=   3.6s\n",
            "[CV 1/5; 28/36] START model__learning_rate=0.25, model__max_depth=1.............\n",
            "[CV 1/5; 28/36] END model__learning_rate=0.25, model__max_depth=1;, score=0.888 total time=   0.7s\n",
            "[CV 2/5; 28/36] START model__learning_rate=0.25, model__max_depth=1.............\n",
            "[CV 2/5; 28/36] END model__learning_rate=0.25, model__max_depth=1;, score=0.878 total time=   0.6s\n",
            "[CV 3/5; 28/36] START model__learning_rate=0.25, model__max_depth=1.............\n",
            "[CV 3/5; 28/36] END model__learning_rate=0.25, model__max_depth=1;, score=0.888 total time=   0.7s\n",
            "[CV 4/5; 28/36] START model__learning_rate=0.25, model__max_depth=1.............\n",
            "[CV 4/5; 28/36] END model__learning_rate=0.25, model__max_depth=1;, score=0.885 total time=   0.7s\n",
            "[CV 5/5; 28/36] START model__learning_rate=0.25, model__max_depth=1.............\n",
            "[CV 5/5; 28/36] END model__learning_rate=0.25, model__max_depth=1;, score=0.889 total time=   0.6s\n",
            "[CV 1/5; 29/36] START model__learning_rate=0.25, model__max_depth=2.............\n",
            "[CV 1/5; 29/36] END model__learning_rate=0.25, model__max_depth=2;, score=0.920 total time=   1.0s\n",
            "[CV 2/5; 29/36] START model__learning_rate=0.25, model__max_depth=2.............\n",
            "[CV 2/5; 29/36] END model__learning_rate=0.25, model__max_depth=2;, score=0.918 total time=   1.0s\n",
            "[CV 3/5; 29/36] START model__learning_rate=0.25, model__max_depth=2.............\n",
            "[CV 3/5; 29/36] END model__learning_rate=0.25, model__max_depth=2;, score=0.921 total time=   1.0s\n",
            "[CV 4/5; 29/36] START model__learning_rate=0.25, model__max_depth=2.............\n",
            "[CV 4/5; 29/36] END model__learning_rate=0.25, model__max_depth=2;, score=0.920 total time=   1.0s\n",
            "[CV 5/5; 29/36] START model__learning_rate=0.25, model__max_depth=2.............\n",
            "[CV 5/5; 29/36] END model__learning_rate=0.25, model__max_depth=2;, score=0.921 total time=   1.0s\n",
            "[CV 1/5; 30/36] START model__learning_rate=0.25, model__max_depth=3.............\n",
            "[CV 1/5; 30/36] END model__learning_rate=0.25, model__max_depth=3;, score=0.926 total time=   1.2s\n",
            "[CV 2/5; 30/36] START model__learning_rate=0.25, model__max_depth=3.............\n",
            "[CV 2/5; 30/36] END model__learning_rate=0.25, model__max_depth=3;, score=0.922 total time=   1.2s\n",
            "[CV 3/5; 30/36] START model__learning_rate=0.25, model__max_depth=3.............\n",
            "[CV 3/5; 30/36] END model__learning_rate=0.25, model__max_depth=3;, score=0.931 total time=   1.2s\n",
            "[CV 4/5; 30/36] START model__learning_rate=0.25, model__max_depth=3.............\n",
            "[CV 4/5; 30/36] END model__learning_rate=0.25, model__max_depth=3;, score=0.929 total time=   1.3s\n",
            "[CV 5/5; 30/36] START model__learning_rate=0.25, model__max_depth=3.............\n",
            "[CV 5/5; 30/36] END model__learning_rate=0.25, model__max_depth=3;, score=0.926 total time=   1.3s\n",
            "[CV 1/5; 31/36] START model__learning_rate=0.25, model__max_depth=4.............\n",
            "[CV 1/5; 31/36] END model__learning_rate=0.25, model__max_depth=4;, score=0.929 total time=   1.6s\n",
            "[CV 2/5; 31/36] START model__learning_rate=0.25, model__max_depth=4.............\n",
            "[CV 2/5; 31/36] END model__learning_rate=0.25, model__max_depth=4;, score=0.922 total time=   1.6s\n",
            "[CV 3/5; 31/36] START model__learning_rate=0.25, model__max_depth=4.............\n",
            "[CV 3/5; 31/36] END model__learning_rate=0.25, model__max_depth=4;, score=0.932 total time=   1.7s\n",
            "[CV 4/5; 31/36] START model__learning_rate=0.25, model__max_depth=4.............\n",
            "[CV 4/5; 31/36] END model__learning_rate=0.25, model__max_depth=4;, score=0.930 total time=   4.7s\n",
            "[CV 5/5; 31/36] START model__learning_rate=0.25, model__max_depth=4.............\n",
            "[CV 5/5; 31/36] END model__learning_rate=0.25, model__max_depth=4;, score=0.928 total time=   1.7s\n",
            "[CV 1/5; 32/36] START model__learning_rate=0.25, model__max_depth=5.............\n",
            "[CV 1/5; 32/36] END model__learning_rate=0.25, model__max_depth=5;, score=0.928 total time=   2.0s\n",
            "[CV 2/5; 32/36] START model__learning_rate=0.25, model__max_depth=5.............\n",
            "[CV 2/5; 32/36] END model__learning_rate=0.25, model__max_depth=5;, score=0.924 total time=   1.9s\n",
            "[CV 3/5; 32/36] START model__learning_rate=0.25, model__max_depth=5.............\n",
            "[CV 3/5; 32/36] END model__learning_rate=0.25, model__max_depth=5;, score=0.934 total time=   2.0s\n",
            "[CV 4/5; 32/36] START model__learning_rate=0.25, model__max_depth=5.............\n",
            "[CV 4/5; 32/36] END model__learning_rate=0.25, model__max_depth=5;, score=0.931 total time=   2.0s\n",
            "[CV 5/5; 32/36] START model__learning_rate=0.25, model__max_depth=5.............\n",
            "[CV 5/5; 32/36] END model__learning_rate=0.25, model__max_depth=5;, score=0.928 total time=   1.9s\n",
            "[CV 1/5; 33/36] START model__learning_rate=0.25, model__max_depth=6.............\n",
            "[CV 1/5; 33/36] END model__learning_rate=0.25, model__max_depth=6;, score=0.929 total time=   2.4s\n",
            "[CV 2/5; 33/36] START model__learning_rate=0.25, model__max_depth=6.............\n",
            "[CV 2/5; 33/36] END model__learning_rate=0.25, model__max_depth=6;, score=0.924 total time=   2.3s\n",
            "[CV 3/5; 33/36] START model__learning_rate=0.25, model__max_depth=6.............\n",
            "[CV 3/5; 33/36] END model__learning_rate=0.25, model__max_depth=6;, score=0.932 total time=   2.4s\n",
            "[CV 4/5; 33/36] START model__learning_rate=0.25, model__max_depth=6.............\n",
            "[CV 4/5; 33/36] END model__learning_rate=0.25, model__max_depth=6;, score=0.932 total time=   2.3s\n",
            "[CV 5/5; 33/36] START model__learning_rate=0.25, model__max_depth=6.............\n",
            "[CV 5/5; 33/36] END model__learning_rate=0.25, model__max_depth=6;, score=0.927 total time=   2.3s\n",
            "[CV 1/5; 34/36] START model__learning_rate=0.25, model__max_depth=7.............\n",
            "[CV 1/5; 34/36] END model__learning_rate=0.25, model__max_depth=7;, score=0.929 total time=   2.8s\n",
            "[CV 2/5; 34/36] START model__learning_rate=0.25, model__max_depth=7.............\n",
            "[CV 2/5; 34/36] END model__learning_rate=0.25, model__max_depth=7;, score=0.922 total time=   2.8s\n",
            "[CV 3/5; 34/36] START model__learning_rate=0.25, model__max_depth=7.............\n",
            "[CV 3/5; 34/36] END model__learning_rate=0.25, model__max_depth=7;, score=0.933 total time=   2.7s\n",
            "[CV 4/5; 34/36] START model__learning_rate=0.25, model__max_depth=7.............\n",
            "[CV 4/5; 34/36] END model__learning_rate=0.25, model__max_depth=7;, score=0.930 total time=   2.7s\n",
            "[CV 5/5; 34/36] START model__learning_rate=0.25, model__max_depth=7.............\n",
            "[CV 5/5; 34/36] END model__learning_rate=0.25, model__max_depth=7;, score=0.927 total time=   2.7s\n",
            "[CV 1/5; 35/36] START model__learning_rate=0.25, model__max_depth=8.............\n",
            "[CV 1/5; 35/36] END model__learning_rate=0.25, model__max_depth=8;, score=0.931 total time=   3.1s\n",
            "[CV 2/5; 35/36] START model__learning_rate=0.25, model__max_depth=8.............\n",
            "[CV 2/5; 35/36] END model__learning_rate=0.25, model__max_depth=8;, score=0.924 total time=   3.1s\n",
            "[CV 3/5; 35/36] START model__learning_rate=0.25, model__max_depth=8.............\n",
            "[CV 3/5; 35/36] END model__learning_rate=0.25, model__max_depth=8;, score=0.931 total time=   3.1s\n",
            "[CV 4/5; 35/36] START model__learning_rate=0.25, model__max_depth=8.............\n",
            "[CV 4/5; 35/36] END model__learning_rate=0.25, model__max_depth=8;, score=0.931 total time=   3.1s\n",
            "[CV 5/5; 35/36] START model__learning_rate=0.25, model__max_depth=8.............\n",
            "[CV 5/5; 35/36] END model__learning_rate=0.25, model__max_depth=8;, score=0.926 total time=   3.2s\n",
            "[CV 1/5; 36/36] START model__learning_rate=0.25, model__max_depth=9.............\n",
            "[CV 1/5; 36/36] END model__learning_rate=0.25, model__max_depth=9;, score=0.928 total time=   3.5s\n",
            "[CV 2/5; 36/36] START model__learning_rate=0.25, model__max_depth=9.............\n",
            "[CV 2/5; 36/36] END model__learning_rate=0.25, model__max_depth=9;, score=0.924 total time=   3.6s\n",
            "[CV 3/5; 36/36] START model__learning_rate=0.25, model__max_depth=9.............\n",
            "[CV 3/5; 36/36] END model__learning_rate=0.25, model__max_depth=9;, score=0.931 total time=   3.6s\n",
            "[CV 4/5; 36/36] START model__learning_rate=0.25, model__max_depth=9.............\n",
            "[CV 4/5; 36/36] END model__learning_rate=0.25, model__max_depth=9;, score=0.932 total time=   3.6s\n",
            "[CV 5/5; 36/36] START model__learning_rate=0.25, model__max_depth=9.............\n",
            "[CV 5/5; 36/36] END model__learning_rate=0.25, model__max_depth=9;, score=0.928 total time=   3.6s\n"
          ]
        },
        {
          "output_type": "execute_result",
          "data": {
            "text/plain": [
              "GridSearchCV(cv=5,\n",
              "             estimator=Pipeline(steps=[('preprocessor',\n",
              "                                        ColumnTransformer(transformers=[('num',\n",
              "                                                                         SimpleImputer(strategy='constant'),\n",
              "                                                                         ['person_age',\n",
              "                                                                          'person_income',\n",
              "                                                                          'person_emp_length',\n",
              "                                                                          'loan_amnt',\n",
              "                                                                          'loan_int_rate',\n",
              "                                                                          'loan_percent_income',\n",
              "                                                                          'cb_person_cred_hist_length']),\n",
              "                                                                        ('cat',\n",
              "                                                                         Pipeline(steps=[('imputer',\n",
              "                                                                                          SimpleImputer(strategy='most_frequent')),\n",
              "                                                                                         ('onehot',...\n",
              "                                                      max_cat_to_onehot=None,\n",
              "                                                      max_delta_step=None,\n",
              "                                                      max_depth=None,\n",
              "                                                      max_leaves=None,\n",
              "                                                      min_child_weight=None,\n",
              "                                                      missing=nan,\n",
              "                                                      monotone_constraints=None,\n",
              "                                                      n_estimators=100,\n",
              "                                                      n_jobs=None,\n",
              "                                                      num_parallel_tree=None,\n",
              "                                                      predictor=None,\n",
              "                                                      random_state=None, ...))]),\n",
              "             param_grid={'model__learning_rate': array([0.01, 0.09, 0.17, 0.25]),\n",
              "                         'model__max_depth': array([1, 2, 3, 4, 5, 6, 7, 8, 9])},\n",
              "             scoring='accuracy', verbose=10)"
            ],
            "text/html": [
              "<style>#sk-container-id-1 {color: black;background-color: white;}#sk-container-id-1 pre{padding: 0;}#sk-container-id-1 div.sk-toggleable {background-color: white;}#sk-container-id-1 label.sk-toggleable__label {cursor: pointer;display: block;width: 100%;margin-bottom: 0;padding: 0.3em;box-sizing: border-box;text-align: center;}#sk-container-id-1 label.sk-toggleable__label-arrow:before {content: \"▸\";float: left;margin-right: 0.25em;color: #696969;}#sk-container-id-1 label.sk-toggleable__label-arrow:hover:before {color: black;}#sk-container-id-1 div.sk-estimator:hover label.sk-toggleable__label-arrow:before {color: black;}#sk-container-id-1 div.sk-toggleable__content {max-height: 0;max-width: 0;overflow: hidden;text-align: left;background-color: #f0f8ff;}#sk-container-id-1 div.sk-toggleable__content pre {margin: 0.2em;color: black;border-radius: 0.25em;background-color: #f0f8ff;}#sk-container-id-1 input.sk-toggleable__control:checked~div.sk-toggleable__content {max-height: 200px;max-width: 100%;overflow: auto;}#sk-container-id-1 input.sk-toggleable__control:checked~label.sk-toggleable__label-arrow:before {content: \"▾\";}#sk-container-id-1 div.sk-estimator input.sk-toggleable__control:checked~label.sk-toggleable__label {background-color: #d4ebff;}#sk-container-id-1 div.sk-label input.sk-toggleable__control:checked~label.sk-toggleable__label {background-color: #d4ebff;}#sk-container-id-1 input.sk-hidden--visually {border: 0;clip: rect(1px 1px 1px 1px);clip: rect(1px, 1px, 1px, 1px);height: 1px;margin: -1px;overflow: hidden;padding: 0;position: absolute;width: 1px;}#sk-container-id-1 div.sk-estimator {font-family: monospace;background-color: #f0f8ff;border: 1px dotted black;border-radius: 0.25em;box-sizing: border-box;margin-bottom: 0.5em;}#sk-container-id-1 div.sk-estimator:hover {background-color: #d4ebff;}#sk-container-id-1 div.sk-parallel-item::after {content: \"\";width: 100%;border-bottom: 1px solid gray;flex-grow: 1;}#sk-container-id-1 div.sk-label:hover label.sk-toggleable__label {background-color: #d4ebff;}#sk-container-id-1 div.sk-serial::before {content: \"\";position: absolute;border-left: 1px solid gray;box-sizing: border-box;top: 0;bottom: 0;left: 50%;z-index: 0;}#sk-container-id-1 div.sk-serial {display: flex;flex-direction: column;align-items: center;background-color: white;padding-right: 0.2em;padding-left: 0.2em;position: relative;}#sk-container-id-1 div.sk-item {position: relative;z-index: 1;}#sk-container-id-1 div.sk-parallel {display: flex;align-items: stretch;justify-content: center;background-color: white;position: relative;}#sk-container-id-1 div.sk-item::before, #sk-container-id-1 div.sk-parallel-item::before {content: \"\";position: absolute;border-left: 1px solid gray;box-sizing: border-box;top: 0;bottom: 0;left: 50%;z-index: -1;}#sk-container-id-1 div.sk-parallel-item {display: flex;flex-direction: column;z-index: 1;position: relative;background-color: white;}#sk-container-id-1 div.sk-parallel-item:first-child::after {align-self: flex-end;width: 50%;}#sk-container-id-1 div.sk-parallel-item:last-child::after {align-self: flex-start;width: 50%;}#sk-container-id-1 div.sk-parallel-item:only-child::after {width: 0;}#sk-container-id-1 div.sk-dashed-wrapped {border: 1px dashed gray;margin: 0 0.4em 0.5em 0.4em;box-sizing: border-box;padding-bottom: 0.4em;background-color: white;}#sk-container-id-1 div.sk-label label {font-family: monospace;font-weight: bold;display: inline-block;line-height: 1.2em;}#sk-container-id-1 div.sk-label-container {text-align: center;}#sk-container-id-1 div.sk-container {/* jupyter's `normalize.less` sets `[hidden] { display: none; }` but bootstrap.min.css set `[hidden] { display: none !important; }` so we also need the `!important` here to be able to override the default hidden behavior on the sphinx rendered scikit-learn.org. See: https://github.com/scikit-learn/scikit-learn/issues/21755 */display: inline-block !important;position: relative;}#sk-container-id-1 div.sk-text-repr-fallback {display: none;}</style><div id=\"sk-container-id-1\" class=\"sk-top-container\"><div class=\"sk-text-repr-fallback\"><pre>GridSearchCV(cv=5,\n",
              "             estimator=Pipeline(steps=[(&#x27;preprocessor&#x27;,\n",
              "                                        ColumnTransformer(transformers=[(&#x27;num&#x27;,\n",
              "                                                                         SimpleImputer(strategy=&#x27;constant&#x27;),\n",
              "                                                                         [&#x27;person_age&#x27;,\n",
              "                                                                          &#x27;person_income&#x27;,\n",
              "                                                                          &#x27;person_emp_length&#x27;,\n",
              "                                                                          &#x27;loan_amnt&#x27;,\n",
              "                                                                          &#x27;loan_int_rate&#x27;,\n",
              "                                                                          &#x27;loan_percent_income&#x27;,\n",
              "                                                                          &#x27;cb_person_cred_hist_length&#x27;]),\n",
              "                                                                        (&#x27;cat&#x27;,\n",
              "                                                                         Pipeline(steps=[(&#x27;imputer&#x27;,\n",
              "                                                                                          SimpleImputer(strategy=&#x27;most_frequent&#x27;)),\n",
              "                                                                                         (&#x27;onehot&#x27;,...\n",
              "                                                      max_cat_to_onehot=None,\n",
              "                                                      max_delta_step=None,\n",
              "                                                      max_depth=None,\n",
              "                                                      max_leaves=None,\n",
              "                                                      min_child_weight=None,\n",
              "                                                      missing=nan,\n",
              "                                                      monotone_constraints=None,\n",
              "                                                      n_estimators=100,\n",
              "                                                      n_jobs=None,\n",
              "                                                      num_parallel_tree=None,\n",
              "                                                      predictor=None,\n",
              "                                                      random_state=None, ...))]),\n",
              "             param_grid={&#x27;model__learning_rate&#x27;: array([0.01, 0.09, 0.17, 0.25]),\n",
              "                         &#x27;model__max_depth&#x27;: array([1, 2, 3, 4, 5, 6, 7, 8, 9])},\n",
              "             scoring=&#x27;accuracy&#x27;, verbose=10)</pre><b>In a Jupyter environment, please rerun this cell to show the HTML representation or trust the notebook. <br />On GitHub, the HTML representation is unable to render, please try loading this page with nbviewer.org.</b></div><div class=\"sk-container\" hidden><div class=\"sk-item sk-dashed-wrapped\"><div class=\"sk-label-container\"><div class=\"sk-label sk-toggleable\"><input class=\"sk-toggleable__control sk-hidden--visually\" id=\"sk-estimator-id-1\" type=\"checkbox\" ><label for=\"sk-estimator-id-1\" class=\"sk-toggleable__label sk-toggleable__label-arrow\">GridSearchCV</label><div class=\"sk-toggleable__content\"><pre>GridSearchCV(cv=5,\n",
              "             estimator=Pipeline(steps=[(&#x27;preprocessor&#x27;,\n",
              "                                        ColumnTransformer(transformers=[(&#x27;num&#x27;,\n",
              "                                                                         SimpleImputer(strategy=&#x27;constant&#x27;),\n",
              "                                                                         [&#x27;person_age&#x27;,\n",
              "                                                                          &#x27;person_income&#x27;,\n",
              "                                                                          &#x27;person_emp_length&#x27;,\n",
              "                                                                          &#x27;loan_amnt&#x27;,\n",
              "                                                                          &#x27;loan_int_rate&#x27;,\n",
              "                                                                          &#x27;loan_percent_income&#x27;,\n",
              "                                                                          &#x27;cb_person_cred_hist_length&#x27;]),\n",
              "                                                                        (&#x27;cat&#x27;,\n",
              "                                                                         Pipeline(steps=[(&#x27;imputer&#x27;,\n",
              "                                                                                          SimpleImputer(strategy=&#x27;most_frequent&#x27;)),\n",
              "                                                                                         (&#x27;onehot&#x27;,...\n",
              "                                                      max_cat_to_onehot=None,\n",
              "                                                      max_delta_step=None,\n",
              "                                                      max_depth=None,\n",
              "                                                      max_leaves=None,\n",
              "                                                      min_child_weight=None,\n",
              "                                                      missing=nan,\n",
              "                                                      monotone_constraints=None,\n",
              "                                                      n_estimators=100,\n",
              "                                                      n_jobs=None,\n",
              "                                                      num_parallel_tree=None,\n",
              "                                                      predictor=None,\n",
              "                                                      random_state=None, ...))]),\n",
              "             param_grid={&#x27;model__learning_rate&#x27;: array([0.01, 0.09, 0.17, 0.25]),\n",
              "                         &#x27;model__max_depth&#x27;: array([1, 2, 3, 4, 5, 6, 7, 8, 9])},\n",
              "             scoring=&#x27;accuracy&#x27;, verbose=10)</pre></div></div></div><div class=\"sk-parallel\"><div class=\"sk-parallel-item\"><div class=\"sk-item\"><div class=\"sk-label-container\"><div class=\"sk-label sk-toggleable\"><input class=\"sk-toggleable__control sk-hidden--visually\" id=\"sk-estimator-id-2\" type=\"checkbox\" ><label for=\"sk-estimator-id-2\" class=\"sk-toggleable__label sk-toggleable__label-arrow\">estimator: Pipeline</label><div class=\"sk-toggleable__content\"><pre>Pipeline(steps=[(&#x27;preprocessor&#x27;,\n",
              "                 ColumnTransformer(transformers=[(&#x27;num&#x27;,\n",
              "                                                  SimpleImputer(strategy=&#x27;constant&#x27;),\n",
              "                                                  [&#x27;person_age&#x27;,\n",
              "                                                   &#x27;person_income&#x27;,\n",
              "                                                   &#x27;person_emp_length&#x27;,\n",
              "                                                   &#x27;loan_amnt&#x27;, &#x27;loan_int_rate&#x27;,\n",
              "                                                   &#x27;loan_percent_income&#x27;,\n",
              "                                                   &#x27;cb_person_cred_hist_length&#x27;]),\n",
              "                                                 (&#x27;cat&#x27;,\n",
              "                                                  Pipeline(steps=[(&#x27;imputer&#x27;,\n",
              "                                                                   SimpleImputer(strategy=&#x27;most_frequent&#x27;)),\n",
              "                                                                  (&#x27;onehot&#x27;,\n",
              "                                                                   OneHotEncoder(handle_unknown...\n",
              "                               feature_types=None, gamma=None, gpu_id=None,\n",
              "                               grow_policy=None, importance_type=None,\n",
              "                               interaction_constraints=None, learning_rate=0.05,\n",
              "                               max_bin=None, max_cat_threshold=None,\n",
              "                               max_cat_to_onehot=None, max_delta_step=None,\n",
              "                               max_depth=None, max_leaves=None,\n",
              "                               min_child_weight=None, missing=nan,\n",
              "                               monotone_constraints=None, n_estimators=100,\n",
              "                               n_jobs=None, num_parallel_tree=None,\n",
              "                               predictor=None, random_state=None, ...))])</pre></div></div></div><div class=\"sk-serial\"><div class=\"sk-item\"><div class=\"sk-serial\"><div class=\"sk-item sk-dashed-wrapped\"><div class=\"sk-label-container\"><div class=\"sk-label sk-toggleable\"><input class=\"sk-toggleable__control sk-hidden--visually\" id=\"sk-estimator-id-3\" type=\"checkbox\" ><label for=\"sk-estimator-id-3\" class=\"sk-toggleable__label sk-toggleable__label-arrow\">preprocessor: ColumnTransformer</label><div class=\"sk-toggleable__content\"><pre>ColumnTransformer(transformers=[(&#x27;num&#x27;, SimpleImputer(strategy=&#x27;constant&#x27;),\n",
              "                                 [&#x27;person_age&#x27;, &#x27;person_income&#x27;,\n",
              "                                  &#x27;person_emp_length&#x27;, &#x27;loan_amnt&#x27;,\n",
              "                                  &#x27;loan_int_rate&#x27;, &#x27;loan_percent_income&#x27;,\n",
              "                                  &#x27;cb_person_cred_hist_length&#x27;]),\n",
              "                                (&#x27;cat&#x27;,\n",
              "                                 Pipeline(steps=[(&#x27;imputer&#x27;,\n",
              "                                                  SimpleImputer(strategy=&#x27;most_frequent&#x27;)),\n",
              "                                                 (&#x27;onehot&#x27;,\n",
              "                                                  OneHotEncoder(handle_unknown=&#x27;ignore&#x27;))]),\n",
              "                                 [&#x27;person_home_ownership&#x27;, &#x27;loan_intent&#x27;,\n",
              "                                  &#x27;loan_grade&#x27;, &#x27;cb_person_default_on_file&#x27;])])</pre></div></div></div><div class=\"sk-parallel\"><div class=\"sk-parallel-item\"><div class=\"sk-item\"><div class=\"sk-label-container\"><div class=\"sk-label sk-toggleable\"><input class=\"sk-toggleable__control sk-hidden--visually\" id=\"sk-estimator-id-4\" type=\"checkbox\" ><label for=\"sk-estimator-id-4\" class=\"sk-toggleable__label sk-toggleable__label-arrow\">num</label><div class=\"sk-toggleable__content\"><pre>[&#x27;person_age&#x27;, &#x27;person_income&#x27;, &#x27;person_emp_length&#x27;, &#x27;loan_amnt&#x27;, &#x27;loan_int_rate&#x27;, &#x27;loan_percent_income&#x27;, &#x27;cb_person_cred_hist_length&#x27;]</pre></div></div></div><div class=\"sk-serial\"><div class=\"sk-item\"><div class=\"sk-estimator sk-toggleable\"><input class=\"sk-toggleable__control sk-hidden--visually\" id=\"sk-estimator-id-5\" type=\"checkbox\" ><label for=\"sk-estimator-id-5\" class=\"sk-toggleable__label sk-toggleable__label-arrow\">SimpleImputer</label><div class=\"sk-toggleable__content\"><pre>SimpleImputer(strategy=&#x27;constant&#x27;)</pre></div></div></div></div></div></div><div class=\"sk-parallel-item\"><div class=\"sk-item\"><div class=\"sk-label-container\"><div class=\"sk-label sk-toggleable\"><input class=\"sk-toggleable__control sk-hidden--visually\" id=\"sk-estimator-id-6\" type=\"checkbox\" ><label for=\"sk-estimator-id-6\" class=\"sk-toggleable__label sk-toggleable__label-arrow\">cat</label><div class=\"sk-toggleable__content\"><pre>[&#x27;person_home_ownership&#x27;, &#x27;loan_intent&#x27;, &#x27;loan_grade&#x27;, &#x27;cb_person_default_on_file&#x27;]</pre></div></div></div><div class=\"sk-serial\"><div class=\"sk-item\"><div class=\"sk-serial\"><div class=\"sk-item\"><div class=\"sk-estimator sk-toggleable\"><input class=\"sk-toggleable__control sk-hidden--visually\" id=\"sk-estimator-id-7\" type=\"checkbox\" ><label for=\"sk-estimator-id-7\" class=\"sk-toggleable__label sk-toggleable__label-arrow\">SimpleImputer</label><div class=\"sk-toggleable__content\"><pre>SimpleImputer(strategy=&#x27;most_frequent&#x27;)</pre></div></div></div><div class=\"sk-item\"><div class=\"sk-estimator sk-toggleable\"><input class=\"sk-toggleable__control sk-hidden--visually\" id=\"sk-estimator-id-8\" type=\"checkbox\" ><label for=\"sk-estimator-id-8\" class=\"sk-toggleable__label sk-toggleable__label-arrow\">OneHotEncoder</label><div class=\"sk-toggleable__content\"><pre>OneHotEncoder(handle_unknown=&#x27;ignore&#x27;)</pre></div></div></div></div></div></div></div></div></div></div><div class=\"sk-item\"><div class=\"sk-estimator sk-toggleable\"><input class=\"sk-toggleable__control sk-hidden--visually\" id=\"sk-estimator-id-9\" type=\"checkbox\" ><label for=\"sk-estimator-id-9\" class=\"sk-toggleable__label sk-toggleable__label-arrow\">SelectPercentile</label><div class=\"sk-toggleable__content\"><pre>SelectPercentile(percentile=80, score_func=&lt;function chi2 at 0x7fb482592310&gt;)</pre></div></div></div><div class=\"sk-item\"><div class=\"sk-estimator sk-toggleable\"><input class=\"sk-toggleable__control sk-hidden--visually\" id=\"sk-estimator-id-10\" type=\"checkbox\" ><label for=\"sk-estimator-id-10\" class=\"sk-toggleable__label sk-toggleable__label-arrow\">XGBClassifier</label><div class=\"sk-toggleable__content\"><pre>XGBClassifier(base_score=None, booster=None, callbacks=None,\n",
              "              colsample_bylevel=None, colsample_bynode=None,\n",
              "              colsample_bytree=None, early_stopping_rounds=None,\n",
              "              enable_categorical=False, eval_metric=None, feature_types=None,\n",
              "              gamma=None, gpu_id=None, grow_policy=None, importance_type=None,\n",
              "              interaction_constraints=None, learning_rate=0.05, max_bin=None,\n",
              "              max_cat_threshold=None, max_cat_to_onehot=None,\n",
              "              max_delta_step=None, max_depth=None, max_leaves=None,\n",
              "              min_child_weight=None, missing=nan, monotone_constraints=None,\n",
              "              n_estimators=100, n_jobs=None, num_parallel_tree=None,\n",
              "              predictor=None, random_state=None, ...)</pre></div></div></div></div></div></div></div></div></div></div></div></div>"
            ]
          },
          "metadata": {},
          "execution_count": 21
        }
      ]
    },
    {
      "cell_type": "code",
      "source": [
        "print(hyper.best_score_)\n",
        "print(hyper.best_estimator_)"
      ],
      "metadata": {
        "colab": {
          "base_uri": "https://localhost:8080/"
        },
        "id": "v7yljnBe1IB8",
        "outputId": "790e5d7e-9a87-4533-cb6c-89db34b9b600"
      },
      "execution_count": null,
      "outputs": [
        {
          "output_type": "stream",
          "name": "stdout",
          "text": [
            "0.9290975657261592\n",
            "Pipeline(steps=[('preprocessor',\n",
            "                 ColumnTransformer(transformers=[('num',\n",
            "                                                  SimpleImputer(strategy='constant'),\n",
            "                                                  ['person_age',\n",
            "                                                   'person_income',\n",
            "                                                   'person_emp_length',\n",
            "                                                   'loan_amnt', 'loan_int_rate',\n",
            "                                                   'loan_percent_income',\n",
            "                                                   'cb_person_cred_hist_length']),\n",
            "                                                 ('cat',\n",
            "                                                  Pipeline(steps=[('imputer',\n",
            "                                                                   SimpleImputer(strategy='most_frequent')),\n",
            "                                                                  ('onehot',\n",
            "                                                                   OneHotEncoder(handle_unknown...\n",
            "                               feature_types=None, gamma=None, gpu_id=None,\n",
            "                               grow_policy=None, importance_type=None,\n",
            "                               interaction_constraints=None, learning_rate=0.25,\n",
            "                               max_bin=None, max_cat_threshold=None,\n",
            "                               max_cat_to_onehot=None, max_delta_step=None,\n",
            "                               max_depth=5, max_leaves=None,\n",
            "                               min_child_weight=None, missing=nan,\n",
            "                               monotone_constraints=None, n_estimators=100,\n",
            "                               n_jobs=None, num_parallel_tree=None,\n",
            "                               predictor=None, random_state=None, ...))])\n"
          ]
        }
      ]
    },
    {
      "cell_type": "code",
      "source": [
        "predict = hyper.best_estimator_.predict(x_test)\n",
        "test_score = accuracy_score(predict,y_test)\n",
        "test_score*100"
      ],
      "metadata": {
        "colab": {
          "base_uri": "https://localhost:8080/"
        },
        "id": "8YPTf4sA1OMi",
        "outputId": "8710d7ed-2115-4bda-8f25-6fa1697bbffd"
      },
      "execution_count": null,
      "outputs": [
        {
          "output_type": "execute_result",
          "data": {
            "text/plain": [
              "93.41721651066442"
            ]
          },
          "metadata": {},
          "execution_count": 23
        }
      ]
    },
    {
      "cell_type": "code",
      "source": [
        "import pickle\n",
        "\n",
        "best_model = hyper.best_estimator_\n",
        "\n",
        "# Save the model to a file\n",
        "with open(\"xgboost_model.pkl\", \"wb\") as file:\n",
        "    pickle.dump(best_model, file)"
      ],
      "metadata": {
        "id": "APDUcXp53ML8"
      },
      "execution_count": null,
      "outputs": []
    },
    {
      "cell_type": "code",
      "source": [
        "# check XGBoost version\n",
        "import xgboost\n",
        "print(xgboost.__version__)\n"
      ],
      "metadata": {
        "colab": {
          "base_uri": "https://localhost:8080/"
        },
        "id": "CjyVsCS3PvOx",
        "outputId": "f4e51738-1df5-4d66-da83-1c812ae3ba29"
      },
      "execution_count": null,
      "outputs": [
        {
          "output_type": "stream",
          "name": "stdout",
          "text": [
            "1.7.3\n"
          ]
        }
      ]
    },
    {
      "cell_type": "code",
      "source": [],
      "metadata": {
        "id": "nWvDr8rPQAeo"
      },
      "execution_count": null,
      "outputs": []
    }
  ]
}